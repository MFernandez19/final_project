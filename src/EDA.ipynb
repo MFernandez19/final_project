{
 "cells": [
  {
   "cell_type": "markdown",
   "metadata": {},
   "source": [
    "# EDA - AIRLINE DELAY PREDICTION PROJECT"
   ]
  },
  {
   "cell_type": "markdown",
   "metadata": {},
   "source": [
    "---"
   ]
  },
  {
   "cell_type": "markdown",
   "metadata": {},
   "source": [
    "## 0 - Importaciones"
   ]
  },
  {
   "cell_type": "markdown",
   "metadata": {},
   "source": [
    "---"
   ]
  },
  {
   "cell_type": "code",
   "execution_count": 50,
   "metadata": {},
   "outputs": [],
   "source": [
    "# Importaciones básicas\n",
    "import pandas as pd\n",
    "import numpy as np\n",
    "import seaborn as sns\n",
    "import matplotlib.pyplot as plt\n",
    "from scipy import stats\n",
    "import imblearn\n",
    "\n",
    "# Importaciones para procesamiento de datos y funcionales\n",
    "from sklearn.model_selection import train_test_split\n",
    "from sklearn.preprocessing import StandardScaler\n",
    "import json\n",
    "from pickle import dump\n",
    "import gc\n",
    "\n",
    "# Importaciones para modelado\n",
    "import xgboost as xgb\n",
    "from xgboost import XGBClassifier\n",
    "import lightgbm as lgbm\n",
    "from sklearn.model_selection import train_test_split, GridSearchCV, RandomizedSearchCV\n",
    "from sklearn.preprocessing import StandardScaler, MinMaxScaler\n",
    "from sklearn.metrics import classification_report, confusion_matrix, accuracy_score, roc_auc_score, roc_curve, auc\n",
    "from imblearn.under_sampling import RandomUnderSampler\n",
    "from imblearn.over_sampling import SMOTE\n",
    "\n",
    "pd.set_option('display.max_columns', None)\n"
   ]
  },
  {
   "cell_type": "markdown",
   "metadata": {},
   "source": [
    "---"
   ]
  },
  {
   "cell_type": "markdown",
   "metadata": {},
   "source": [
    "## 1 - Recolección de Datos"
   ]
  },
  {
   "cell_type": "markdown",
   "metadata": {},
   "source": [
    "---"
   ]
  },
  {
   "cell_type": "markdown",
   "metadata": {},
   "source": [
    "Como parte de la metodología y alcance del proyecto, nos enfocamos específicamente en el análisis del año 2021, a pesar de contar con datos históricos desde 2018 hasta 2022. Esta decisión se fundamenta en las limitaciones técnicas y de recursos computacionales disponibles, considerando el volumen significativo de información: cada año contiene aproximadamente 5 millones de registros distribuidos en 61 variables diferentes. No elegimos el año 2022 debido a que tiene informacion solo hasta mediados del mismo año.\n",
    "\n",
    "La decisión de acotar el análisis a un único año representa un enfoque estratégico que nos permite realizar un análisis más profundo y detallado de los datos, optimizando los recursos computacionales disponibles sin comprometer la calidad y profundidad del análisis"
   ]
  },
  {
   "cell_type": "code",
   "execution_count": 51,
   "metadata": {},
   "outputs": [],
   "source": [
    "#df_2018 = pd.read_parquet(\"../data/raw/Combined_Flights_2018.parquet\")\n",
    "#df_2019 = pd.read_parquet(\"../data/raw/Combined_Flights_2019.parquet\", engine=\"pyarrow\")\n",
    "#df_2020 = pd.read_parquet(\"../data/raw/Combined_Flights_2020.parquet\")\n",
    "#df_2021 = pd.read_parquet(\"../data/raw/Combined_Flights_2021.parquet\")\n",
    "df = pd.read_parquet(\"../data/raw/Combined_Flights_2021.parquet\")"
   ]
  },
  {
   "cell_type": "code",
   "execution_count": 52,
   "metadata": {},
   "outputs": [
    {
     "data": {
      "text/plain": [
       "'data_frames = [df_2020, df_2021]\\ndf = pd.concat(data_frames, ignore_index=True)'"
      ]
     },
     "execution_count": 52,
     "metadata": {},
     "output_type": "execute_result"
    }
   ],
   "source": [
    "'''data_frames = [df_2020, df_2021]\n",
    "df = pd.concat(data_frames, ignore_index=True)'''"
   ]
  },
  {
   "cell_type": "code",
   "execution_count": 53,
   "metadata": {},
   "outputs": [
    {
     "data": {
      "text/html": [
       "<div>\n",
       "<style scoped>\n",
       "    .dataframe tbody tr th:only-of-type {\n",
       "        vertical-align: middle;\n",
       "    }\n",
       "\n",
       "    .dataframe tbody tr th {\n",
       "        vertical-align: top;\n",
       "    }\n",
       "\n",
       "    .dataframe thead th {\n",
       "        text-align: right;\n",
       "    }\n",
       "</style>\n",
       "<table border=\"1\" class=\"dataframe\">\n",
       "  <thead>\n",
       "    <tr style=\"text-align: right;\">\n",
       "      <th></th>\n",
       "      <th>FlightDate</th>\n",
       "      <th>Airline</th>\n",
       "      <th>Origin</th>\n",
       "      <th>Dest</th>\n",
       "      <th>Cancelled</th>\n",
       "      <th>Diverted</th>\n",
       "      <th>CRSDepTime</th>\n",
       "      <th>DepTime</th>\n",
       "      <th>DepDelayMinutes</th>\n",
       "      <th>DepDelay</th>\n",
       "      <th>ArrTime</th>\n",
       "      <th>ArrDelayMinutes</th>\n",
       "      <th>AirTime</th>\n",
       "      <th>CRSElapsedTime</th>\n",
       "      <th>ActualElapsedTime</th>\n",
       "      <th>Distance</th>\n",
       "      <th>Year</th>\n",
       "      <th>Quarter</th>\n",
       "      <th>Month</th>\n",
       "      <th>DayofMonth</th>\n",
       "      <th>DayOfWeek</th>\n",
       "      <th>Marketing_Airline_Network</th>\n",
       "      <th>Operated_or_Branded_Code_Share_Partners</th>\n",
       "      <th>DOT_ID_Marketing_Airline</th>\n",
       "      <th>IATA_Code_Marketing_Airline</th>\n",
       "      <th>Flight_Number_Marketing_Airline</th>\n",
       "      <th>Operating_Airline</th>\n",
       "      <th>DOT_ID_Operating_Airline</th>\n",
       "      <th>IATA_Code_Operating_Airline</th>\n",
       "      <th>Tail_Number</th>\n",
       "      <th>Flight_Number_Operating_Airline</th>\n",
       "      <th>OriginAirportID</th>\n",
       "      <th>OriginAirportSeqID</th>\n",
       "      <th>OriginCityMarketID</th>\n",
       "      <th>OriginCityName</th>\n",
       "      <th>OriginState</th>\n",
       "      <th>OriginStateFips</th>\n",
       "      <th>OriginStateName</th>\n",
       "      <th>OriginWac</th>\n",
       "      <th>DestAirportID</th>\n",
       "      <th>DestAirportSeqID</th>\n",
       "      <th>DestCityMarketID</th>\n",
       "      <th>DestCityName</th>\n",
       "      <th>DestState</th>\n",
       "      <th>DestStateFips</th>\n",
       "      <th>DestStateName</th>\n",
       "      <th>DestWac</th>\n",
       "      <th>DepDel15</th>\n",
       "      <th>DepartureDelayGroups</th>\n",
       "      <th>DepTimeBlk</th>\n",
       "      <th>TaxiOut</th>\n",
       "      <th>WheelsOff</th>\n",
       "      <th>WheelsOn</th>\n",
       "      <th>TaxiIn</th>\n",
       "      <th>CRSArrTime</th>\n",
       "      <th>ArrDelay</th>\n",
       "      <th>ArrDel15</th>\n",
       "      <th>ArrivalDelayGroups</th>\n",
       "      <th>ArrTimeBlk</th>\n",
       "      <th>DistanceGroup</th>\n",
       "      <th>DivAirportLandings</th>\n",
       "    </tr>\n",
       "  </thead>\n",
       "  <tbody>\n",
       "    <tr>\n",
       "      <th>0</th>\n",
       "      <td>2021-03-03</td>\n",
       "      <td>SkyWest Airlines Inc.</td>\n",
       "      <td>SGU</td>\n",
       "      <td>PHX</td>\n",
       "      <td>False</td>\n",
       "      <td>False</td>\n",
       "      <td>724</td>\n",
       "      <td>714.0</td>\n",
       "      <td>0.0</td>\n",
       "      <td>-10.0</td>\n",
       "      <td>818.0</td>\n",
       "      <td>0.0</td>\n",
       "      <td>49.0</td>\n",
       "      <td>79.0</td>\n",
       "      <td>64.0</td>\n",
       "      <td>262.0</td>\n",
       "      <td>2021</td>\n",
       "      <td>1</td>\n",
       "      <td>3</td>\n",
       "      <td>3</td>\n",
       "      <td>3</td>\n",
       "      <td>AA</td>\n",
       "      <td>AA_CODESHARE</td>\n",
       "      <td>19805</td>\n",
       "      <td>AA</td>\n",
       "      <td>3133</td>\n",
       "      <td>OO</td>\n",
       "      <td>20304</td>\n",
       "      <td>OO</td>\n",
       "      <td>N728SK</td>\n",
       "      <td>3133</td>\n",
       "      <td>14794</td>\n",
       "      <td>1479405</td>\n",
       "      <td>34794</td>\n",
       "      <td>St. George, UT</td>\n",
       "      <td>UT</td>\n",
       "      <td>49</td>\n",
       "      <td>Utah</td>\n",
       "      <td>87</td>\n",
       "      <td>14107</td>\n",
       "      <td>1410702</td>\n",
       "      <td>30466</td>\n",
       "      <td>Phoenix, AZ</td>\n",
       "      <td>AZ</td>\n",
       "      <td>4</td>\n",
       "      <td>Arizona</td>\n",
       "      <td>81</td>\n",
       "      <td>0.0</td>\n",
       "      <td>-1.0</td>\n",
       "      <td>0700-0759</td>\n",
       "      <td>10.0</td>\n",
       "      <td>724.0</td>\n",
       "      <td>813.0</td>\n",
       "      <td>5.0</td>\n",
       "      <td>843</td>\n",
       "      <td>-25.0</td>\n",
       "      <td>0.0</td>\n",
       "      <td>-2.0</td>\n",
       "      <td>0800-0859</td>\n",
       "      <td>2</td>\n",
       "      <td>0.0</td>\n",
       "    </tr>\n",
       "    <tr>\n",
       "      <th>1</th>\n",
       "      <td>2021-03-03</td>\n",
       "      <td>SkyWest Airlines Inc.</td>\n",
       "      <td>PHX</td>\n",
       "      <td>SGU</td>\n",
       "      <td>False</td>\n",
       "      <td>False</td>\n",
       "      <td>922</td>\n",
       "      <td>917.0</td>\n",
       "      <td>0.0</td>\n",
       "      <td>-5.0</td>\n",
       "      <td>1031.0</td>\n",
       "      <td>0.0</td>\n",
       "      <td>48.0</td>\n",
       "      <td>78.0</td>\n",
       "      <td>74.0</td>\n",
       "      <td>262.0</td>\n",
       "      <td>2021</td>\n",
       "      <td>1</td>\n",
       "      <td>3</td>\n",
       "      <td>3</td>\n",
       "      <td>3</td>\n",
       "      <td>AA</td>\n",
       "      <td>AA_CODESHARE</td>\n",
       "      <td>19805</td>\n",
       "      <td>AA</td>\n",
       "      <td>3134</td>\n",
       "      <td>OO</td>\n",
       "      <td>20304</td>\n",
       "      <td>OO</td>\n",
       "      <td>N752SK</td>\n",
       "      <td>3134</td>\n",
       "      <td>14107</td>\n",
       "      <td>1410702</td>\n",
       "      <td>30466</td>\n",
       "      <td>Phoenix, AZ</td>\n",
       "      <td>AZ</td>\n",
       "      <td>4</td>\n",
       "      <td>Arizona</td>\n",
       "      <td>81</td>\n",
       "      <td>14794</td>\n",
       "      <td>1479405</td>\n",
       "      <td>34794</td>\n",
       "      <td>St. George, UT</td>\n",
       "      <td>UT</td>\n",
       "      <td>49</td>\n",
       "      <td>Utah</td>\n",
       "      <td>87</td>\n",
       "      <td>0.0</td>\n",
       "      <td>-1.0</td>\n",
       "      <td>0900-0959</td>\n",
       "      <td>23.0</td>\n",
       "      <td>940.0</td>\n",
       "      <td>1028.0</td>\n",
       "      <td>3.0</td>\n",
       "      <td>1040</td>\n",
       "      <td>-9.0</td>\n",
       "      <td>0.0</td>\n",
       "      <td>-1.0</td>\n",
       "      <td>1000-1059</td>\n",
       "      <td>2</td>\n",
       "      <td>0.0</td>\n",
       "    </tr>\n",
       "    <tr>\n",
       "      <th>2</th>\n",
       "      <td>2021-03-03</td>\n",
       "      <td>SkyWest Airlines Inc.</td>\n",
       "      <td>MHT</td>\n",
       "      <td>ORD</td>\n",
       "      <td>False</td>\n",
       "      <td>False</td>\n",
       "      <td>1330</td>\n",
       "      <td>1321.0</td>\n",
       "      <td>0.0</td>\n",
       "      <td>-9.0</td>\n",
       "      <td>1501.0</td>\n",
       "      <td>0.0</td>\n",
       "      <td>129.0</td>\n",
       "      <td>180.0</td>\n",
       "      <td>160.0</td>\n",
       "      <td>843.0</td>\n",
       "      <td>2021</td>\n",
       "      <td>1</td>\n",
       "      <td>3</td>\n",
       "      <td>3</td>\n",
       "      <td>3</td>\n",
       "      <td>AA</td>\n",
       "      <td>AA_CODESHARE</td>\n",
       "      <td>19805</td>\n",
       "      <td>AA</td>\n",
       "      <td>3135</td>\n",
       "      <td>OO</td>\n",
       "      <td>20304</td>\n",
       "      <td>OO</td>\n",
       "      <td>N766SK</td>\n",
       "      <td>3135</td>\n",
       "      <td>13296</td>\n",
       "      <td>1329604</td>\n",
       "      <td>30721</td>\n",
       "      <td>Manchester, NH</td>\n",
       "      <td>NH</td>\n",
       "      <td>33</td>\n",
       "      <td>New Hampshire</td>\n",
       "      <td>14</td>\n",
       "      <td>13930</td>\n",
       "      <td>1393007</td>\n",
       "      <td>30977</td>\n",
       "      <td>Chicago, IL</td>\n",
       "      <td>IL</td>\n",
       "      <td>17</td>\n",
       "      <td>Illinois</td>\n",
       "      <td>41</td>\n",
       "      <td>0.0</td>\n",
       "      <td>-1.0</td>\n",
       "      <td>1300-1359</td>\n",
       "      <td>15.0</td>\n",
       "      <td>1336.0</td>\n",
       "      <td>1445.0</td>\n",
       "      <td>16.0</td>\n",
       "      <td>1530</td>\n",
       "      <td>-29.0</td>\n",
       "      <td>0.0</td>\n",
       "      <td>-2.0</td>\n",
       "      <td>1500-1559</td>\n",
       "      <td>4</td>\n",
       "      <td>0.0</td>\n",
       "    </tr>\n",
       "  </tbody>\n",
       "</table>\n",
       "</div>"
      ],
      "text/plain": [
       "  FlightDate                Airline Origin Dest  Cancelled  Diverted  \\\n",
       "0 2021-03-03  SkyWest Airlines Inc.    SGU  PHX      False     False   \n",
       "1 2021-03-03  SkyWest Airlines Inc.    PHX  SGU      False     False   \n",
       "2 2021-03-03  SkyWest Airlines Inc.    MHT  ORD      False     False   \n",
       "\n",
       "   CRSDepTime  DepTime  DepDelayMinutes  DepDelay  ArrTime  ArrDelayMinutes  \\\n",
       "0         724    714.0              0.0     -10.0    818.0              0.0   \n",
       "1         922    917.0              0.0      -5.0   1031.0              0.0   \n",
       "2        1330   1321.0              0.0      -9.0   1501.0              0.0   \n",
       "\n",
       "   AirTime  CRSElapsedTime  ActualElapsedTime  Distance  Year  Quarter  Month  \\\n",
       "0     49.0            79.0               64.0     262.0  2021        1      3   \n",
       "1     48.0            78.0               74.0     262.0  2021        1      3   \n",
       "2    129.0           180.0              160.0     843.0  2021        1      3   \n",
       "\n",
       "   DayofMonth  DayOfWeek Marketing_Airline_Network  \\\n",
       "0           3          3                        AA   \n",
       "1           3          3                        AA   \n",
       "2           3          3                        AA   \n",
       "\n",
       "  Operated_or_Branded_Code_Share_Partners  DOT_ID_Marketing_Airline  \\\n",
       "0                            AA_CODESHARE                     19805   \n",
       "1                            AA_CODESHARE                     19805   \n",
       "2                            AA_CODESHARE                     19805   \n",
       "\n",
       "  IATA_Code_Marketing_Airline  Flight_Number_Marketing_Airline  \\\n",
       "0                          AA                             3133   \n",
       "1                          AA                             3134   \n",
       "2                          AA                             3135   \n",
       "\n",
       "  Operating_Airline  DOT_ID_Operating_Airline IATA_Code_Operating_Airline  \\\n",
       "0                OO                     20304                          OO   \n",
       "1                OO                     20304                          OO   \n",
       "2                OO                     20304                          OO   \n",
       "\n",
       "  Tail_Number  Flight_Number_Operating_Airline  OriginAirportID  \\\n",
       "0      N728SK                             3133            14794   \n",
       "1      N752SK                             3134            14107   \n",
       "2      N766SK                             3135            13296   \n",
       "\n",
       "   OriginAirportSeqID  OriginCityMarketID  OriginCityName OriginState  \\\n",
       "0             1479405               34794  St. George, UT          UT   \n",
       "1             1410702               30466     Phoenix, AZ          AZ   \n",
       "2             1329604               30721  Manchester, NH          NH   \n",
       "\n",
       "   OriginStateFips OriginStateName  OriginWac  DestAirportID  \\\n",
       "0               49            Utah         87          14107   \n",
       "1                4         Arizona         81          14794   \n",
       "2               33   New Hampshire         14          13930   \n",
       "\n",
       "   DestAirportSeqID  DestCityMarketID    DestCityName DestState  \\\n",
       "0           1410702             30466     Phoenix, AZ        AZ   \n",
       "1           1479405             34794  St. George, UT        UT   \n",
       "2           1393007             30977     Chicago, IL        IL   \n",
       "\n",
       "   DestStateFips DestStateName  DestWac  DepDel15  DepartureDelayGroups  \\\n",
       "0              4       Arizona       81       0.0                  -1.0   \n",
       "1             49          Utah       87       0.0                  -1.0   \n",
       "2             17      Illinois       41       0.0                  -1.0   \n",
       "\n",
       "  DepTimeBlk  TaxiOut  WheelsOff  WheelsOn  TaxiIn  CRSArrTime  ArrDelay  \\\n",
       "0  0700-0759     10.0      724.0     813.0     5.0         843     -25.0   \n",
       "1  0900-0959     23.0      940.0    1028.0     3.0        1040      -9.0   \n",
       "2  1300-1359     15.0     1336.0    1445.0    16.0        1530     -29.0   \n",
       "\n",
       "   ArrDel15  ArrivalDelayGroups ArrTimeBlk  DistanceGroup  DivAirportLandings  \n",
       "0       0.0                -2.0  0800-0859              2                 0.0  \n",
       "1       0.0                -1.0  1000-1059              2                 0.0  \n",
       "2       0.0                -2.0  1500-1559              4                 0.0  "
      ]
     },
     "execution_count": 53,
     "metadata": {},
     "output_type": "execute_result"
    }
   ],
   "source": [
    "df.head(3)"
   ]
  },
  {
   "cell_type": "markdown",
   "metadata": {},
   "source": [
    "---"
   ]
  },
  {
   "cell_type": "markdown",
   "metadata": {},
   "source": [
    "## 2 - Exploracion de datos y limpieza de los mismo"
   ]
  },
  {
   "cell_type": "markdown",
   "metadata": {},
   "source": [
    "---"
   ]
  },
  {
   "cell_type": "code",
   "execution_count": 54,
   "metadata": {},
   "outputs": [
    {
     "name": "stdout",
     "output_type": "stream",
     "text": [
      "Nuestro datframe contiene 6311871 filas (rows) y tiene 61 columnas (features)\n"
     ]
    }
   ],
   "source": [
    "print(f'Nuestro datframe contiene {len(df)} filas (rows) y tiene {df.shape[1]} columnas (features)')"
   ]
  },
  {
   "cell_type": "markdown",
   "metadata": {},
   "source": [
    "Como parte de nuestra estrategia de optimización de recursos y eficiencia en el procesamiento de datos, implementamos una selección preliminar de características (feature selection) del dataset. Esta aproximación metodológica nos permitió enfocarnos específicamente en las variables más relevantes para nuestro análisis, reduciendo la dimensionalidad de los datos y optimizando el uso de recursos computacionales.\n",
    "Esta decisión no solo facilitó un manejo más eficiente de la información, sino que también nos permitió concentrar nuestros esfuerzos analíticos en los aspectos más significativos del proyecto, garantizando así la calidad y precisión de nuestros resultados"
   ]
  },
  {
   "cell_type": "markdown",
   "metadata": {},
   "source": [
    "### 2.1 - Seleccion preliminar de caracteristicas (feature selection)"
   ]
  },
  {
   "cell_type": "code",
   "execution_count": 55,
   "metadata": {},
   "outputs": [
    {
     "name": "stdout",
     "output_type": "stream",
     "text": [
      "Index(['FlightDate', 'Airline', 'Origin', 'Dest', 'Cancelled', 'Diverted',\n",
      "       'CRSDepTime', 'DepTime', 'DepDelayMinutes', 'DepDelay', 'ArrTime',\n",
      "       'ArrDelayMinutes', 'AirTime', 'CRSElapsedTime', 'ActualElapsedTime',\n",
      "       'Distance', 'Year', 'Quarter', 'Month', 'DayofMonth', 'DayOfWeek',\n",
      "       'Marketing_Airline_Network', 'Operated_or_Branded_Code_Share_Partners',\n",
      "       'DOT_ID_Marketing_Airline', 'IATA_Code_Marketing_Airline',\n",
      "       'Flight_Number_Marketing_Airline', 'Operating_Airline',\n",
      "       'DOT_ID_Operating_Airline', 'IATA_Code_Operating_Airline',\n",
      "       'Tail_Number', 'Flight_Number_Operating_Airline', 'OriginAirportID',\n",
      "       'OriginAirportSeqID', 'OriginCityMarketID', 'OriginCityName',\n",
      "       'OriginState', 'OriginStateFips', 'OriginStateName', 'OriginWac',\n",
      "       'DestAirportID', 'DestAirportSeqID', 'DestCityMarketID', 'DestCityName',\n",
      "       'DestState', 'DestStateFips', 'DestStateName', 'DestWac', 'DepDel15',\n",
      "       'DepartureDelayGroups', 'DepTimeBlk', 'TaxiOut', 'WheelsOff',\n",
      "       'WheelsOn', 'TaxiIn', 'CRSArrTime', 'ArrDelay', 'ArrDel15',\n",
      "       'ArrivalDelayGroups', 'ArrTimeBlk', 'DistanceGroup',\n",
      "       'DivAirportLandings'],\n",
      "      dtype='object')\n"
     ]
    }
   ],
   "source": [
    "print(df.columns)"
   ]
  },
  {
   "cell_type": "markdown",
   "metadata": {},
   "source": [
    "#### Información redundante o irrelevante para el objetivo\n",
    "Estas columnas no aportan valor predictivo o contienen información que no estará disponible antes del despegue.\n",
    "\n",
    "| **Columna(s)**                                                                                                         | **Descripción**                                                                                              |\n",
    "|------------------------------------------------------------------------------------------------------------------------|--------------------------------------------------------------------------------------------------------------|\n",
    "| **'DepTime', 'DepDelayMinutes', 'DepDelay'**                                                                             | Dependen del retraso real al momento de la salida, que es lo que queremos predecir.                         |\n",
    "| **'ArrTime', 'ArrDelayMinutes', 'AirTime', 'ActualElapsedTime', 'ArrDelay', 'ArrDel15', 'ArrivalDelayGroups'**           | Información posterior al despegue.                                                                          |\n",
    "| **'Cancelled', 'Diverted', 'DivAirportLandings'**                                                                        | Indican si el vuelo fue cancelado o desviado, lo cual no es útil para predecir retrasos antes del despegue.  |\n",
    "| **'WheelsOff', 'WheelsOn', 'TaxiOut', 'TaxiIn'**                                                                         | Información posterior al despegue.                                                                          |\n",
    "| **'Tail_Number'**                                                                                                        | No aporta información relevante y puede introducir ruido.                                                   |\n",
    "| **'OriginAirportID', 'OriginAirportSeqID', 'OriginCityMarketID', 'DestAirportID', 'DestAirportSeqID', 'DestCityMarketID'**| IDs redundantes que pueden ser reemplazados con información más significativa como el nombre del aeropuerto o la ciudad. |\n",
    "| **'OriginWac', 'DestWac'**                                                                                               | Códigos geográficos redundantes.                                                                            |\n",
    "\n",
    "\n",
    "\n",
    "#### Información que podría ser útil pero requiere validación\n",
    "Estas columnas pueden tener correlación con retrasos, pero debemos evaluar su utilidad.\n",
    "\n",
    "| **Columna(s)**                                                                                                         | **Descripción**                                                                                              |\n",
    "|------------------------------------------------------------------------------------------------------------------------|--------------------------------------------------------------------------------------------------------------|\n",
    "| **'FlightDate'**                                                                                                         | Podría ser relevante si no tuviesemos ya las columnas divididas hablando del tiempo                       |\n",
    "| **'Flight_Number_Marketing_Airline', 'Flight_Number_Operating_Airline'**                                                 | Dato granular que podría ser redundante con la aerolínea y menos práctico para usuarios en una página web.   |\n",
    "| **'Marketing_Airline_Network', 'Operated_or_Branded_Code_Share_Partners'**                                               | Podrían correlacionarse con retrasos, pero hay que evitar redundancia con otras columnas relacionadas a la aerolínea. |\n",
    "| **'DOT_ID_Marketing_Airline', 'DOT_ID_Operating_Airline', 'IATA_Code_Marketing_Airline', 'IATA_Code_Operating_Airline'** | IDs redundantes con el nombre de la aerolínea.                                                              |\n",
    "| **'DistanceGroup'**                                                                                                      | Es categórica, pero podría ser redundante con **'Distance'**.                                                 |\n",
    "| **'DepartureDelayGroups'**                                                                                               | Representa rangos de retrasos, pero depende del retraso real, por lo que no será útil.                      |\n",
    "\n",
    "\n",
    "\n",
    "#### Información clave para el modelo\n",
    "Estas columnas probablemente tendrán mayor impacto en la predicción.\n",
    "\n",
    "| **Columna(s)**                                                                 | **Descripción**                                                                                         |\n",
    "|--------------------------------------------------------------------------------|---------------------------------------------------------------------------------------------------------|\n",
    "| **'Airline', 'Operating_Airline'**                                               | Las aerolíneas pueden tener diferentes tasas de puntualidad.                                           |\n",
    "| **'Origin', 'Dest', 'OriginCityName', 'DestCityName', 'OriginStateName', 'DestStateName'**| Lugares de origen y destino son cruciales, ya que algunos aeropuertos tienen mayores tasas de retraso. |\n",
    "| **'CRSDepTime', 'CRSArrTime'**                       | Hora programada y bloque horario pueden correlacionarse con la congestión del aeropuerto y los retrasos.|\n",
    "| **'Distance'**                                                                   | La distancia entre el origen y el destino puede afectar la probabilidad de retrasos.                   |\n",
    "| **'Year', 'Quarter', 'Month', 'DayofMonth', 'DayOfWeek'**                        | Información temporal que puede capturar tendencias estacionales o semanales.                           |\n",
    "\n"
   ]
  },
  {
   "cell_type": "markdown",
   "metadata": {},
   "source": [
    "### 2.2 - Propuesta de columnas finales\n",
    "Variables seleccionadas para el modelo.\n",
    "\n",
    "| **Columna(s)**             | **Descripción**                               |\n",
    "|----------------------------|-----------------------------------------------|\n",
    "| **'Airline' (o 'Operating_Airline')** | Aerolínea del vuelo.                         |\n",
    "| **'Origin'**                 | Aeropuerto de origen.                        |\n",
    "| **'Dest'**                   | Aeropuerto de destino.                       |\n",
    "| **'OriginCityName'**         | Ciudad de origen.                            |\n",
    "| **'DestCityName'**           | Ciudad de destino.                           |\n",
    "| **'OriginStateName'**            | Estado de origen.                            |\n",
    "| **'DestStateName'**              | Estado de destino.                           |\n",
    "| **'CRSDepTime'**             | Hora programada de salida.                   |\n",
    "| **'CRSArrTime'**             | Hora programada de llegada.                   |\n",
    "| **'Distance'**               | Distancia entre origen y destino.            |\n",
    "| **'Year'**                   | Año del vuelo.                               |\n",
    "| **'Quarter'**                | Trimestre del vuelo.                         |\n",
    "| **'Month'**                  | Mes del vuelo.                               |\n",
    "| **'DayofMonth'**             | Día del mes del vuelo.                       |\n",
    "| **'DayOfWeek'**              | Día de la semana del vuelo.                  |\n",
    "| **'DepDel15'**               | Variable predictora para clasificacion                  |\n",
    "| **'DepDelayMinutes'**               | Variable predictora para regresion                  |"
   ]
  },
  {
   "cell_type": "code",
   "execution_count": 56,
   "metadata": {},
   "outputs": [],
   "source": [
    "columnas_finales = [\n",
    "    # Features\n",
    "    'FlightDate', 'Airline', 'Origin', 'Dest', 'OriginCityName', 'DestCityName',\n",
    "    'OriginStateName', 'DestStateName', 'CRSDepTime', 'CRSArrTime', 'Distance',\n",
    "    'Quarter', 'Month', 'DayofMonth', 'DayOfWeek',\n",
    "    \n",
    "    # Targets\n",
    "    'DepDel15', 'DepDelay'\n",
    "]"
   ]
  },
  {
   "cell_type": "code",
   "execution_count": 57,
   "metadata": {},
   "outputs": [
    {
     "data": {
      "text/html": [
       "<div>\n",
       "<style scoped>\n",
       "    .dataframe tbody tr th:only-of-type {\n",
       "        vertical-align: middle;\n",
       "    }\n",
       "\n",
       "    .dataframe tbody tr th {\n",
       "        vertical-align: top;\n",
       "    }\n",
       "\n",
       "    .dataframe thead th {\n",
       "        text-align: right;\n",
       "    }\n",
       "</style>\n",
       "<table border=\"1\" class=\"dataframe\">\n",
       "  <thead>\n",
       "    <tr style=\"text-align: right;\">\n",
       "      <th></th>\n",
       "      <th>FlightDate</th>\n",
       "      <th>Airline</th>\n",
       "      <th>Origin</th>\n",
       "      <th>Dest</th>\n",
       "      <th>OriginCityName</th>\n",
       "      <th>DestCityName</th>\n",
       "      <th>OriginStateName</th>\n",
       "      <th>DestStateName</th>\n",
       "      <th>CRSDepTime</th>\n",
       "      <th>CRSArrTime</th>\n",
       "      <th>Distance</th>\n",
       "      <th>Quarter</th>\n",
       "      <th>Month</th>\n",
       "      <th>DayofMonth</th>\n",
       "      <th>DayOfWeek</th>\n",
       "      <th>DepDel15</th>\n",
       "      <th>DepDelay</th>\n",
       "    </tr>\n",
       "  </thead>\n",
       "  <tbody>\n",
       "    <tr>\n",
       "      <th>0</th>\n",
       "      <td>2021-03-03</td>\n",
       "      <td>SkyWest Airlines Inc.</td>\n",
       "      <td>SGU</td>\n",
       "      <td>PHX</td>\n",
       "      <td>St. George, UT</td>\n",
       "      <td>Phoenix, AZ</td>\n",
       "      <td>Utah</td>\n",
       "      <td>Arizona</td>\n",
       "      <td>724</td>\n",
       "      <td>843</td>\n",
       "      <td>262.0</td>\n",
       "      <td>1</td>\n",
       "      <td>3</td>\n",
       "      <td>3</td>\n",
       "      <td>3</td>\n",
       "      <td>0.0</td>\n",
       "      <td>-10.0</td>\n",
       "    </tr>\n",
       "    <tr>\n",
       "      <th>1</th>\n",
       "      <td>2021-03-03</td>\n",
       "      <td>SkyWest Airlines Inc.</td>\n",
       "      <td>PHX</td>\n",
       "      <td>SGU</td>\n",
       "      <td>Phoenix, AZ</td>\n",
       "      <td>St. George, UT</td>\n",
       "      <td>Arizona</td>\n",
       "      <td>Utah</td>\n",
       "      <td>922</td>\n",
       "      <td>1040</td>\n",
       "      <td>262.0</td>\n",
       "      <td>1</td>\n",
       "      <td>3</td>\n",
       "      <td>3</td>\n",
       "      <td>3</td>\n",
       "      <td>0.0</td>\n",
       "      <td>-5.0</td>\n",
       "    </tr>\n",
       "    <tr>\n",
       "      <th>2</th>\n",
       "      <td>2021-03-03</td>\n",
       "      <td>SkyWest Airlines Inc.</td>\n",
       "      <td>MHT</td>\n",
       "      <td>ORD</td>\n",
       "      <td>Manchester, NH</td>\n",
       "      <td>Chicago, IL</td>\n",
       "      <td>New Hampshire</td>\n",
       "      <td>Illinois</td>\n",
       "      <td>1330</td>\n",
       "      <td>1530</td>\n",
       "      <td>843.0</td>\n",
       "      <td>1</td>\n",
       "      <td>3</td>\n",
       "      <td>3</td>\n",
       "      <td>3</td>\n",
       "      <td>0.0</td>\n",
       "      <td>-9.0</td>\n",
       "    </tr>\n",
       "  </tbody>\n",
       "</table>\n",
       "</div>"
      ],
      "text/plain": [
       "  FlightDate                Airline Origin Dest  OriginCityName  \\\n",
       "0 2021-03-03  SkyWest Airlines Inc.    SGU  PHX  St. George, UT   \n",
       "1 2021-03-03  SkyWest Airlines Inc.    PHX  SGU     Phoenix, AZ   \n",
       "2 2021-03-03  SkyWest Airlines Inc.    MHT  ORD  Manchester, NH   \n",
       "\n",
       "     DestCityName OriginStateName DestStateName  CRSDepTime  CRSArrTime  \\\n",
       "0     Phoenix, AZ            Utah       Arizona         724         843   \n",
       "1  St. George, UT         Arizona          Utah         922        1040   \n",
       "2     Chicago, IL   New Hampshire      Illinois        1330        1530   \n",
       "\n",
       "   Distance  Quarter  Month  DayofMonth  DayOfWeek  DepDel15  DepDelay  \n",
       "0     262.0        1      3           3          3       0.0     -10.0  \n",
       "1     262.0        1      3           3          3       0.0      -5.0  \n",
       "2     843.0        1      3           3          3       0.0      -9.0  "
      ]
     },
     "execution_count": 57,
     "metadata": {},
     "output_type": "execute_result"
    }
   ],
   "source": [
    "df = df[columnas_finales]\n",
    "df.head(3)"
   ]
  },
  {
   "cell_type": "code",
   "execution_count": 58,
   "metadata": {},
   "outputs": [
    {
     "name": "stdout",
     "output_type": "stream",
     "text": [
      "Se han eliminado características redundantes y seleccionado variables clave para la predicción. \n",
      "El dataset ahora contiene 6311871 filas y 17 columnas listas para la modelización.\n"
     ]
    }
   ],
   "source": [
    "#Conclusión\n",
    "print(\"Se han eliminado características redundantes y seleccionado variables clave para la predicción. \\n\\\n",
    "El dataset ahora contiene {} filas y {} columnas listas para la modelización.\".format(df.shape[0], df.shape[1]))"
   ]
  },
  {
   "cell_type": "markdown",
   "metadata": {},
   "source": [
    "### 2.3 - Estructura de los datos"
   ]
  },
  {
   "cell_type": "markdown",
   "metadata": {},
   "source": [
    "En esta sección, procederemos a realizar un análisis estadístico descriptivo exhaustivo de las variables seleccionadas. Este análisis nos permitirá comprender en profundidad la distribución, tendencias centrales y dispersión de nuestros datos, proporcionando una base sólida para las subsiguientes etapas de modelado y análisis predictivo"
   ]
  },
  {
   "cell_type": "code",
   "execution_count": 59,
   "metadata": {},
   "outputs": [
    {
     "name": "stdout",
     "output_type": "stream",
     "text": [
      "<class 'pandas.core.frame.DataFrame'>\n",
      "Index: 6311871 entries, 0 to 573778\n",
      "Data columns (total 17 columns):\n",
      " #   Column           Dtype         \n",
      "---  ------           -----         \n",
      " 0   FlightDate       datetime64[us]\n",
      " 1   Airline          object        \n",
      " 2   Origin           object        \n",
      " 3   Dest             object        \n",
      " 4   OriginCityName   object        \n",
      " 5   DestCityName     object        \n",
      " 6   OriginStateName  object        \n",
      " 7   DestStateName    object        \n",
      " 8   CRSDepTime       int64         \n",
      " 9   CRSArrTime       int64         \n",
      " 10  Distance         float64       \n",
      " 11  Quarter          int64         \n",
      " 12  Month            int64         \n",
      " 13  DayofMonth       int64         \n",
      " 14  DayOfWeek        int64         \n",
      " 15  DepDel15         float64       \n",
      " 16  DepDelay         float64       \n",
      "dtypes: datetime64[us](1), float64(3), int64(6), object(7)\n",
      "memory usage: 866.8+ MB\n"
     ]
    }
   ],
   "source": [
    "#Información básica del dataset\n",
    "df.info()"
   ]
  },
  {
   "cell_type": "code",
   "execution_count": 60,
   "metadata": {},
   "outputs": [
    {
     "data": {
      "text/html": [
       "<div>\n",
       "<style scoped>\n",
       "    .dataframe tbody tr th:only-of-type {\n",
       "        vertical-align: middle;\n",
       "    }\n",
       "\n",
       "    .dataframe tbody tr th {\n",
       "        vertical-align: top;\n",
       "    }\n",
       "\n",
       "    .dataframe thead th {\n",
       "        text-align: right;\n",
       "    }\n",
       "</style>\n",
       "<table border=\"1\" class=\"dataframe\">\n",
       "  <thead>\n",
       "    <tr style=\"text-align: right;\">\n",
       "      <th></th>\n",
       "      <th>FlightDate</th>\n",
       "      <th>CRSDepTime</th>\n",
       "      <th>CRSArrTime</th>\n",
       "      <th>Distance</th>\n",
       "      <th>Quarter</th>\n",
       "      <th>Month</th>\n",
       "      <th>DayofMonth</th>\n",
       "      <th>DayOfWeek</th>\n",
       "      <th>DepDel15</th>\n",
       "      <th>DepDelay</th>\n",
       "    </tr>\n",
       "  </thead>\n",
       "  <tbody>\n",
       "    <tr>\n",
       "      <th>count</th>\n",
       "      <td>6311871</td>\n",
       "      <td>6.311871e+06</td>\n",
       "      <td>6.311871e+06</td>\n",
       "      <td>6.311871e+06</td>\n",
       "      <td>6.311871e+06</td>\n",
       "      <td>6.311871e+06</td>\n",
       "      <td>6.311871e+06</td>\n",
       "      <td>6.311871e+06</td>\n",
       "      <td>6.203458e+06</td>\n",
       "      <td>6.203458e+06</td>\n",
       "    </tr>\n",
       "    <tr>\n",
       "      <th>mean</th>\n",
       "      <td>2021-07-15 12:56:53.561019</td>\n",
       "      <td>1.323953e+03</td>\n",
       "      <td>1.498272e+03</td>\n",
       "      <td>7.955762e+02</td>\n",
       "      <td>2.650051e+00</td>\n",
       "      <td>6.969905e+00</td>\n",
       "      <td>1.579259e+01</td>\n",
       "      <td>4.013676e+00</td>\n",
       "      <td>1.731723e-01</td>\n",
       "      <td>9.468347e+00</td>\n",
       "    </tr>\n",
       "    <tr>\n",
       "      <th>min</th>\n",
       "      <td>2021-01-01 00:00:00</td>\n",
       "      <td>1.000000e+00</td>\n",
       "      <td>1.000000e+00</td>\n",
       "      <td>3.100000e+01</td>\n",
       "      <td>1.000000e+00</td>\n",
       "      <td>1.000000e+00</td>\n",
       "      <td>1.000000e+00</td>\n",
       "      <td>1.000000e+00</td>\n",
       "      <td>0.000000e+00</td>\n",
       "      <td>-1.050000e+02</td>\n",
       "    </tr>\n",
       "    <tr>\n",
       "      <th>25%</th>\n",
       "      <td>2021-04-25 00:00:00</td>\n",
       "      <td>9.200000e+02</td>\n",
       "      <td>1.118000e+03</td>\n",
       "      <td>3.700000e+02</td>\n",
       "      <td>2.000000e+00</td>\n",
       "      <td>4.000000e+00</td>\n",
       "      <td>8.000000e+00</td>\n",
       "      <td>2.000000e+00</td>\n",
       "      <td>0.000000e+00</td>\n",
       "      <td>-6.000000e+00</td>\n",
       "    </tr>\n",
       "    <tr>\n",
       "      <th>50%</th>\n",
       "      <td>2021-07-20 00:00:00</td>\n",
       "      <td>1.315000e+03</td>\n",
       "      <td>1.520000e+03</td>\n",
       "      <td>6.460000e+02</td>\n",
       "      <td>3.000000e+00</td>\n",
       "      <td>7.000000e+00</td>\n",
       "      <td>1.600000e+01</td>\n",
       "      <td>4.000000e+00</td>\n",
       "      <td>0.000000e+00</td>\n",
       "      <td>-2.000000e+00</td>\n",
       "    </tr>\n",
       "    <tr>\n",
       "      <th>75%</th>\n",
       "      <td>2021-10-10 00:00:00</td>\n",
       "      <td>1.723000e+03</td>\n",
       "      <td>1.914000e+03</td>\n",
       "      <td>1.033000e+03</td>\n",
       "      <td>4.000000e+00</td>\n",
       "      <td>1.000000e+01</td>\n",
       "      <td>2.300000e+01</td>\n",
       "      <td>6.000000e+00</td>\n",
       "      <td>0.000000e+00</td>\n",
       "      <td>6.000000e+00</td>\n",
       "    </tr>\n",
       "    <tr>\n",
       "      <th>max</th>\n",
       "      <td>2021-12-31 00:00:00</td>\n",
       "      <td>2.359000e+03</td>\n",
       "      <td>2.400000e+03</td>\n",
       "      <td>5.812000e+03</td>\n",
       "      <td>4.000000e+00</td>\n",
       "      <td>1.200000e+01</td>\n",
       "      <td>3.100000e+01</td>\n",
       "      <td>7.000000e+00</td>\n",
       "      <td>1.000000e+00</td>\n",
       "      <td>3.095000e+03</td>\n",
       "    </tr>\n",
       "    <tr>\n",
       "      <th>std</th>\n",
       "      <td>NaN</td>\n",
       "      <td>4.741972e+02</td>\n",
       "      <td>4.946565e+02</td>\n",
       "      <td>5.832931e+02</td>\n",
       "      <td>1.077919e+00</td>\n",
       "      <td>3.300914e+00</td>\n",
       "      <td>8.786535e+00</td>\n",
       "      <td>2.006264e+00</td>\n",
       "      <td>3.783962e-01</td>\n",
       "      <td>4.837844e+01</td>\n",
       "    </tr>\n",
       "  </tbody>\n",
       "</table>\n",
       "</div>"
      ],
      "text/plain": [
       "                       FlightDate    CRSDepTime    CRSArrTime      Distance  \\\n",
       "count                     6311871  6.311871e+06  6.311871e+06  6.311871e+06   \n",
       "mean   2021-07-15 12:56:53.561019  1.323953e+03  1.498272e+03  7.955762e+02   \n",
       "min           2021-01-01 00:00:00  1.000000e+00  1.000000e+00  3.100000e+01   \n",
       "25%           2021-04-25 00:00:00  9.200000e+02  1.118000e+03  3.700000e+02   \n",
       "50%           2021-07-20 00:00:00  1.315000e+03  1.520000e+03  6.460000e+02   \n",
       "75%           2021-10-10 00:00:00  1.723000e+03  1.914000e+03  1.033000e+03   \n",
       "max           2021-12-31 00:00:00  2.359000e+03  2.400000e+03  5.812000e+03   \n",
       "std                           NaN  4.741972e+02  4.946565e+02  5.832931e+02   \n",
       "\n",
       "            Quarter         Month    DayofMonth     DayOfWeek      DepDel15  \\\n",
       "count  6.311871e+06  6.311871e+06  6.311871e+06  6.311871e+06  6.203458e+06   \n",
       "mean   2.650051e+00  6.969905e+00  1.579259e+01  4.013676e+00  1.731723e-01   \n",
       "min    1.000000e+00  1.000000e+00  1.000000e+00  1.000000e+00  0.000000e+00   \n",
       "25%    2.000000e+00  4.000000e+00  8.000000e+00  2.000000e+00  0.000000e+00   \n",
       "50%    3.000000e+00  7.000000e+00  1.600000e+01  4.000000e+00  0.000000e+00   \n",
       "75%    4.000000e+00  1.000000e+01  2.300000e+01  6.000000e+00  0.000000e+00   \n",
       "max    4.000000e+00  1.200000e+01  3.100000e+01  7.000000e+00  1.000000e+00   \n",
       "std    1.077919e+00  3.300914e+00  8.786535e+00  2.006264e+00  3.783962e-01   \n",
       "\n",
       "           DepDelay  \n",
       "count  6.203458e+06  \n",
       "mean   9.468347e+00  \n",
       "min   -1.050000e+02  \n",
       "25%   -6.000000e+00  \n",
       "50%   -2.000000e+00  \n",
       "75%    6.000000e+00  \n",
       "max    3.095000e+03  \n",
       "std    4.837844e+01  "
      ]
     },
     "execution_count": 60,
     "metadata": {},
     "output_type": "execute_result"
    }
   ],
   "source": [
    "#Estadísticos descriptivos\n",
    "df.describe()"
   ]
  },
  {
   "cell_type": "markdown",
   "metadata": {},
   "source": [
    "### 2.4 - Limpieza de los datos (duplicados y vacios)"
   ]
  },
  {
   "cell_type": "code",
   "execution_count": 61,
   "metadata": {},
   "outputs": [
    {
     "name": "stdout",
     "output_type": "stream",
     "text": [
      "Número de filas duplicadas antes de limpieza: 5\n",
      "\n",
      "Valores duplicados eliminados!\n"
     ]
    }
   ],
   "source": [
    "#Verificar y eliminar duplicados\n",
    "duplicates = df.duplicated().sum()\n",
    "print(\"Número de filas duplicadas antes de limpieza:\", duplicates)\n",
    "\n",
    "#Eliminando valores duplicados\n",
    "df.drop_duplicates(inplace=True)\n",
    "\n",
    "print(\"\\nValores duplicados eliminados!\")"
   ]
  },
  {
   "cell_type": "code",
   "execution_count": 62,
   "metadata": {},
   "outputs": [
    {
     "name": "stdout",
     "output_type": "stream",
     "text": [
      "Valores NaN encontrados: \n",
      "'Columnas'       'Cantidad'\n",
      "DepDel15    108412\n",
      "DepDelay    108412\n",
      "dtype: int64\n",
      "\n",
      "Valores NaN eliminados!\n"
     ]
    }
   ],
   "source": [
    "#Encontrando valores NaN\n",
    "print(f\"Valores NaN encontrados: \\n'Columnas'       'Cantidad'\\n{df.isna().sum()[df.isna().sum()>0]}\")\n",
    "\n",
    "#Eliminando valores duplicados\n",
    "df.dropna(inplace=True)\n",
    "\n",
    "print(\"\\nValores NaN eliminados!\")"
   ]
  },
  {
   "cell_type": "code",
   "execution_count": 63,
   "metadata": {},
   "outputs": [
    {
     "name": "stdout",
     "output_type": "stream",
     "text": [
      "Conclusión: Se han eliminado duplicados y valores nulos, asegurando que el dataset esté limpio\n",
      "y listo para el análisis posterior. Ahora el dataset contiene 6203454 filas y 17 columnas.\n"
     ]
    }
   ],
   "source": [
    "#Conclusión rápida\n",
    "print(\"Conclusión: Se han eliminado duplicados y valores nulos, asegurando que el dataset esté limpio\\ny listo para el análisis posterior. \\\n",
    "Ahora el dataset contiene {} filas y {} columnas.\".format(df.shape[0], df.shape[1]))"
   ]
  },
  {
   "cell_type": "markdown",
   "metadata": {},
   "source": [
    "---"
   ]
  },
  {
   "cell_type": "markdown",
   "metadata": {},
   "source": [
    "## 3 - Dividiendo el dataset"
   ]
  },
  {
   "cell_type": "markdown",
   "metadata": {},
   "source": [
    "---"
   ]
  },
  {
   "cell_type": "markdown",
   "metadata": {},
   "source": [
    "### 3.1 - Dividiendo el dataset en variables categóricas y numéricas"
   ]
  },
  {
   "cell_type": "code",
   "execution_count": 64,
   "metadata": {},
   "outputs": [
    {
     "name": "stdout",
     "output_type": "stream",
     "text": [
      "Estos son los tipos de datos que tenemos en nuestro data set: [dtype('<M8[us]') dtype('O') dtype('int64') dtype('float64')]\n"
     ]
    }
   ],
   "source": [
    "# Understanding how many type of features we have\n",
    "print(f\"Estos son los tipos de datos que tenemos en nuestro data set: {df.dtypes.unique()}\")"
   ]
  },
  {
   "cell_type": "code",
   "execution_count": 65,
   "metadata": {},
   "outputs": [],
   "source": [
    "# Separar variables numéricas y categóricas\n",
    "num = [\"float64\", \"int64\"]\n",
    "cat = ['O']\n",
    "\n",
    "df_num = df.select_dtypes(num)\n",
    "df_cat = df.select_dtypes(cat)"
   ]
  },
  {
   "cell_type": "code",
   "execution_count": 66,
   "metadata": {},
   "outputs": [
    {
     "name": "stdout",
     "output_type": "stream",
     "text": [
      "Columnas dentro de nuestras variables \"Numericas\": ['CRSDepTime', 'CRSArrTime', 'Distance', 'Quarter', 'Month', 'DayofMonth', 'DayOfWeek', 'DepDel15', 'DepDelay']\n",
      "Columnas dentro de nuestras variables \"Categoricas\": ['Airline', 'Origin', 'Dest', 'OriginCityName', 'DestCityName', 'OriginStateName', 'DestStateName']\n"
     ]
    }
   ],
   "source": [
    "print(f'Columnas dentro de nuestras variables \"Numericas\": {df_num.columns.tolist()}')\n",
    "print(f'Columnas dentro de nuestras variables \"Categoricas\": {df_cat.columns.tolist()}')"
   ]
  },
  {
   "cell_type": "markdown",
   "metadata": {},
   "source": [
    "---"
   ]
  },
  {
   "cell_type": "markdown",
   "metadata": {},
   "source": [
    "## 4 - Análisis Univariado"
   ]
  },
  {
   "cell_type": "markdown",
   "metadata": {},
   "source": [
    "---"
   ]
  },
  {
   "cell_type": "markdown",
   "metadata": {},
   "source": [
    "### 4.1 - Análisis de Variables Categóricas"
   ]
  },
  {
   "cell_type": "code",
   "execution_count": 67,
   "metadata": {},
   "outputs": [
    {
     "data": {
      "text/plain": [
       "'fig, axes = plt.subplots(nrows=7, ncols=1, figsize=(12,20))\\nsns.set_palette(\"bright\")\\n\\n# Graficar las principales variables categóricas\\ncategorical_vars = [\\'Airline\\', \\'OriginStateName\\', \\'DestStateName\\', \\'OriginCityName\\', \\'DestCityName\\']\\nfor i, var in enumerate(df_cat.columns):\\n    top_values = df[var].value_counts().head(20)\\n    sns.barplot(ax=axes[i], y=top_values.index, x=top_values.values, hue=top_values.index, dodge=False)\\n    axes[i].set_title(f\"Distribución de {var}\", fontsize=14, fontweight=\\'bold\\')\\n    axes[i].set_xlabel(\"Frecuencia\")\\n    axes[i].set_ylabel(var)\\n    axes[i].tick_params(axis=\\'y\\', labelsize=7)\\n\\nplt.tight_layout()\\nplt.show()'"
      ]
     },
     "execution_count": 67,
     "metadata": {},
     "output_type": "execute_result"
    }
   ],
   "source": [
    "'''fig, axes = plt.subplots(nrows=7, ncols=1, figsize=(12,20))\n",
    "sns.set_palette(\"bright\")\n",
    "\n",
    "# Graficar las principales variables categóricas\n",
    "categorical_vars = ['Airline', 'OriginStateName', 'DestStateName', 'OriginCityName', 'DestCityName']\n",
    "for i, var in enumerate(df_cat.columns):\n",
    "    top_values = df[var].value_counts().head(20)\n",
    "    sns.barplot(ax=axes[i], y=top_values.index, x=top_values.values, hue=top_values.index, dodge=False)\n",
    "    axes[i].set_title(f\"Distribución de {var}\", fontsize=14, fontweight='bold')\n",
    "    axes[i].set_xlabel(\"Frecuencia\")\n",
    "    axes[i].set_ylabel(var)\n",
    "    axes[i].tick_params(axis='y', labelsize=7)\n",
    "\n",
    "plt.tight_layout()\n",
    "plt.show()'''"
   ]
  },
  {
   "cell_type": "markdown",
   "metadata": {},
   "source": [
    "### 4.2 - Análisis de Variables Numéricas"
   ]
  },
  {
   "cell_type": "code",
   "execution_count": 68,
   "metadata": {},
   "outputs": [
    {
     "data": {
      "text/plain": [
       "'# Configurar visualización\\ndf_sample = df.sample(frac=0.5, random_state=42)\\nfig, axes = plt.subplots(nrows=9, ncols=1, figsize=(10, 20))\\n\\n\\nfor i, var in enumerate(df_num.columns):\\n    sns.histplot(df_sample[var], ax=axes[i], kde=True, bins=30, color=\"royalblue\")\\n    axes[i].set_title(f\"Distribución de {var}\", fontsize=12, fontweight=\\'bold\\')\\n    axes[i].set_xlabel(var)\\n\\nplt.tight_layout()\\nplt.show()\\n'"
      ]
     },
     "execution_count": 68,
     "metadata": {},
     "output_type": "execute_result"
    }
   ],
   "source": [
    "'''# Configurar visualización\n",
    "df_sample = df.sample(frac=0.5, random_state=42)\n",
    "fig, axes = plt.subplots(nrows=9, ncols=1, figsize=(10, 20))\n",
    "\n",
    "\n",
    "for i, var in enumerate(df_num.columns):\n",
    "    sns.histplot(df_sample[var], ax=axes[i], kde=True, bins=30, color=\"royalblue\")\n",
    "    axes[i].set_title(f\"Distribución de {var}\", fontsize=12, fontweight='bold')\n",
    "    axes[i].set_xlabel(var)\n",
    "\n",
    "plt.tight_layout()\n",
    "plt.show()\n",
    "'''"
   ]
  },
  {
   "cell_type": "code",
   "execution_count": 69,
   "metadata": {},
   "outputs": [
    {
     "data": {
      "text/plain": [
       "'fig, ax = plt.subplots(8, 2, figsize=(10,12), gridspec_kw={\"height_ratios\":[6,1,6,1,6,1,6,1]})\\nsns.reset_defaults()\\n\\n#Row_1\\nsns.histplot(ax = ax[0,0], data=df_num, x=\"DayOfWeek\")\\nsns.boxplot(ax = ax[1,0], data=df_num, x=\"DayOfWeek\")\\nsns.histplot(ax = ax[0,1], data=df_num, x=\"Month\").set(ylabel=None)\\nsns.boxplot(ax = ax[1,1], data=df_num, x=\"Month\")\\n\\n#Row_2\\nsns.histplot(ax = ax[2,0], data=df_num, x=\"Quarter\")\\nsns.boxplot(ax = ax[3,0], data=df_num, x=\"Quarter\")\\nsns.histplot(ax = ax[2,1], data=df_num, x=\"DayofMonth\").set(ylabel=None)\\nsns.boxplot(ax = ax[3,1], data=df_num, x=\"DayofMonth\")\\n\\n#Row_3\\nsns.histplot(ax = ax[4,0], data=df_num[(df_num[\"DepDelay\"] >= 1) & (df_num[\"DepDelay\"] <= 60)], x=\"DepDelay\")\\nsns.boxplot(ax = ax[5,0], data=df_num, x=\"DepDelay\")\\nsns.histplot(ax = ax[4,1], data=df_num, x=\"CRSDepTime\").set(ylabel=None)\\nsns.boxplot(ax = ax[5,1], data=df_num, x=\"CRSDepTime\")\\n\\n\\n#Row_4\\nsns.histplot(ax = ax[6,0], data=df_num, x=\"CRSArrTime\")\\nsns.boxplot(ax = ax[7,0], data=df_num, x=\"CRSArrTime\")\\nsns.histplot(ax = ax[6,1], data=df_num[df[\"Distance\"] <= 2000], x=\"Distance\")\\nsns.boxplot(ax = ax[7,1], data=df_num, x=\"Distance\")\\n\\nplt.tight_layout()\\nfig.subplots_adjust(hspace=1)\\nplt.show()'"
      ]
     },
     "execution_count": 69,
     "metadata": {},
     "output_type": "execute_result"
    }
   ],
   "source": [
    "'''fig, ax = plt.subplots(8, 2, figsize=(10,12), gridspec_kw={\"height_ratios\":[6,1,6,1,6,1,6,1]})\n",
    "sns.reset_defaults()\n",
    "\n",
    "#Row_1\n",
    "sns.histplot(ax = ax[0,0], data=df_num, x=\"DayOfWeek\")\n",
    "sns.boxplot(ax = ax[1,0], data=df_num, x=\"DayOfWeek\")\n",
    "sns.histplot(ax = ax[0,1], data=df_num, x=\"Month\").set(ylabel=None)\n",
    "sns.boxplot(ax = ax[1,1], data=df_num, x=\"Month\")\n",
    "\n",
    "#Row_2\n",
    "sns.histplot(ax = ax[2,0], data=df_num, x=\"Quarter\")\n",
    "sns.boxplot(ax = ax[3,0], data=df_num, x=\"Quarter\")\n",
    "sns.histplot(ax = ax[2,1], data=df_num, x=\"DayofMonth\").set(ylabel=None)\n",
    "sns.boxplot(ax = ax[3,1], data=df_num, x=\"DayofMonth\")\n",
    "\n",
    "#Row_3\n",
    "sns.histplot(ax = ax[4,0], data=df_num[(df_num[\"DepDelay\"] >= 1) & (df_num[\"DepDelay\"] <= 60)], x=\"DepDelay\")\n",
    "sns.boxplot(ax = ax[5,0], data=df_num, x=\"DepDelay\")\n",
    "sns.histplot(ax = ax[4,1], data=df_num, x=\"CRSDepTime\").set(ylabel=None)\n",
    "sns.boxplot(ax = ax[5,1], data=df_num, x=\"CRSDepTime\")\n",
    "\n",
    "\n",
    "#Row_4\n",
    "sns.histplot(ax = ax[6,0], data=df_num, x=\"CRSArrTime\")\n",
    "sns.boxplot(ax = ax[7,0], data=df_num, x=\"CRSArrTime\")\n",
    "sns.histplot(ax = ax[6,1], data=df_num[df[\"Distance\"] <= 2000], x=\"Distance\")\n",
    "sns.boxplot(ax = ax[7,1], data=df_num, x=\"Distance\")\n",
    "\n",
    "plt.tight_layout()\n",
    "fig.subplots_adjust(hspace=1)\n",
    "plt.show()'''"
   ]
  },
  {
   "cell_type": "markdown",
   "metadata": {},
   "source": [
    "### 4.3 - Análisis Categórico-Categórico"
   ]
  },
  {
   "cell_type": "code",
   "execution_count": 70,
   "metadata": {},
   "outputs": [
    {
     "data": {
      "text/plain": [
       "'fig, axis = plt.subplots(3, 1, figsize = (10, 20))\\n\\nsns.barplot(ax= axis[0], data=df, y=\\'Airline\\', x=\\'DepDelay\\')\\nsns.barplot(ax= axis[1], data=df, y=\\'OriginStateName\\', x=\\'DepDelay\\')\\nsns.barplot(ax= axis[2], data=df, y=\\'DestStateName\\', x=\\'DepDelay\\')\\n\\naxis[0].set_title(\"Promedio de tiempo de Delays por Aerolínea\", fontsize=14, fontweight=\\'bold\\')\\naxis[1].set_title(\"Promedio de tiempo de Delays por lugar de origen\", fontsize=14, fontweight=\\'bold\\')\\naxis[2].set_title(\"Promedio de tiempo de Delays por lugar de llegada\", fontsize=14, fontweight=\\'bold\\')\\n\\nplt.tight_layout()\\nplt.show()'"
      ]
     },
     "execution_count": 70,
     "metadata": {},
     "output_type": "execute_result"
    }
   ],
   "source": [
    "'''fig, axis = plt.subplots(3, 1, figsize = (10, 20))\n",
    "\n",
    "sns.barplot(ax= axis[0], data=df, y='Airline', x='DepDelay')\n",
    "sns.barplot(ax= axis[1], data=df, y='OriginStateName', x='DepDelay')\n",
    "sns.barplot(ax= axis[2], data=df, y='DestStateName', x='DepDelay')\n",
    "\n",
    "axis[0].set_title(\"Promedio de tiempo de Delays por Aerolínea\", fontsize=14, fontweight='bold')\n",
    "axis[1].set_title(\"Promedio de tiempo de Delays por lugar de origen\", fontsize=14, fontweight='bold')\n",
    "axis[2].set_title(\"Promedio de tiempo de Delays por lugar de llegada\", fontsize=14, fontweight='bold')\n",
    "\n",
    "plt.tight_layout()\n",
    "plt.show()'''"
   ]
  },
  {
   "cell_type": "markdown",
   "metadata": {},
   "source": [
    "### 4.4 - Análisis de Categorias de Delay"
   ]
  },
  {
   "cell_type": "code",
   "execution_count": 71,
   "metadata": {},
   "outputs": [
    {
     "name": "stdout",
     "output_type": "stream",
     "text": [
      "DelayCategory\n",
      "OnTime_Early    4147764\n",
      "Small_Delay     1019416\n",
      "Medium_Delay     563238\n",
      "Large_Delay      473036\n",
      "Name: count, dtype: int64\n"
     ]
    }
   ],
   "source": [
    "df['DelayCategory'] = None\n",
    "df.loc[df['DepDelay'] <= 0, 'DelayCategory'] = 'OnTime_Early'\n",
    "df.loc[(df['DepDelay'] > 0) & (df['DepDelay'] <= 15), 'DelayCategory'] = 'Small_Delay'\n",
    "df.loc[(df['DepDelay'] > 15) & (df['DepDelay'] <= 45), 'DelayCategory'] = 'Medium_Delay'\n",
    "df.loc[df['DepDelay'] > 45, 'DelayCategory'] = 'Large_Delay'\n",
    "\n",
    "print(df['DelayCategory'].value_counts())"
   ]
  },
  {
   "cell_type": "code",
   "execution_count": 72,
   "metadata": {},
   "outputs": [
    {
     "data": {
      "text/plain": [
       "'f,ax=plt.subplots(1,2,figsize=(20,8))\\ndf[\\'DelayCategory\\'].value_counts().plot.pie(explode=[0,0,0,0],autopct=\\'%1.1f%%\\',ax=ax[0],shadow=True)\\nax[0].set_title(\\'DelayCategory\\')\\nax[0].set_ylabel(\\'\\')\\nsns.countplot(data=df,x = \\'DelayCategory\\',order = df[\\'DelayCategory\\'].value_counts().index,ax=ax[1])\\nax[1].set_title(\\'DelayCategory\\')\\nplt.show()\\nplt.savefig(\"Delay Category.png\")\\n\\nprint(\\'DelayCategory representa si el vuelo estuvo A Tiempo o Temprano (OnTime_Early), retrasado hasta 15 minutos (Small_Delay), retrasado hasta 45 minutos (Medium_Delay), retrasado más de 45 minutos (Large_Delay).\\')'"
      ]
     },
     "execution_count": 72,
     "metadata": {},
     "output_type": "execute_result"
    }
   ],
   "source": [
    "'''f,ax=plt.subplots(1,2,figsize=(20,8))\n",
    "df['DelayCategory'].value_counts().plot.pie(explode=[0,0,0,0],autopct='%1.1f%%',ax=ax[0],shadow=True)\n",
    "ax[0].set_title('DelayCategory')\n",
    "ax[0].set_ylabel('')\n",
    "sns.countplot(data=df,x = 'DelayCategory',order = df['DelayCategory'].value_counts().index,ax=ax[1])\n",
    "ax[1].set_title('DelayCategory')\n",
    "plt.show()\n",
    "plt.savefig(\"Delay Category.png\")\n",
    "\n",
    "print('DelayCategory representa si el vuelo estuvo A Tiempo o Temprano (OnTime_Early), retrasado hasta 15 minutos (Small_Delay), retrasado hasta 45 minutos (Medium_Delay), retrasado más de 45 minutos (Large_Delay).')'''"
   ]
  },
  {
   "cell_type": "markdown",
   "metadata": {},
   "source": [
    "### 4.4 - Análisis Numérico-Numérico"
   ]
  },
  {
   "cell_type": "code",
   "execution_count": 73,
   "metadata": {},
   "outputs": [
    {
     "data": {
      "text/plain": [
       "'# Tomar muestra y pre-calcular correlaciones\\ndf_sample = df_num.sample(frac=0.5, random_state=42)\\ncorr_matrix = df_num.corr()\\n\\nfig, axis = plt.subplots(4, 4, figsize=(20, 20))\\n\\n# DayOfWeek\\nsns.regplot(ax=axis[0, 0], data=df_sample, x=\"DayOfWeek\", y=\"DepDel15\", \\n            scatter_kws={\\'alpha\\':0.3}, n_boot=100)\\nsns.heatmap(corr_matrix.loc[[\"DepDel15\"], [\"DayOfWeek\"]].T, \\n            annot=True, fmt=\".2f\", ax=axis[1, 0], cbar=False)\\n\\n# Month\\nsns.regplot(ax=axis[0, 1], data=df_sample, x=\"Month\", y=\"DepDel15\", \\n            color=sns.color_palette(\"colorblind\")[2], scatter_kws={\\'alpha\\':0.3}, n_boot=100)\\nsns.heatmap(corr_matrix.loc[[\"DepDel15\"], [\"Month\"]].T, \\n            annot=True, fmt=\".2f\", ax=axis[1, 1])\\n\\n# Quarter\\nsns.regplot(ax=axis[0, 2], data=df_sample, x=\"Quarter\", y=\"DepDel15\", \\n            color=sns.color_palette(\"colorblind\")[3], scatter_kws={\\'alpha\\':0.3}, n_boot=100)\\nsns.heatmap(corr_matrix.loc[[\"DepDel15\"], [\"Quarter\"]].T, \\n            annot=True, fmt=\".2f\", ax=axis[1, 2])\\n\\n# DayofMonth\\nsns.regplot(ax=axis[0, 3], data=df_sample, x=\"DayofMonth\", y=\"DepDel15\", \\n            color=sns.color_palette(\"colorblind\")[4], scatter_kws={\\'alpha\\':0.3}, n_boot=100)\\nsns.heatmap(corr_matrix.loc[[\"DepDel15\"], [\"DayofMonth\"]].T, \\n            annot=True, fmt=\".2f\", ax=axis[1, 3])\\n\\n# DepTime\\nsns.regplot(ax=axis[2, 0], data=df_sample, x=\"CRSDepTime\", y=\"DepDel15\", \\n            color=sns.color_palette(\"colorblind\")[5], scatter_kws={\\'alpha\\':0.3}, n_boot=100)\\nsns.heatmap(corr_matrix.loc[[\"DepDel15\"], [\"CRSDepTime\"]].T, \\n            annot=True, fmt=\".2f\", ax=axis[3, 0])\\n\\n# CRSDepTime\\nsns.regplot(ax=axis[2, 1], data=df_sample, x=\"CRSArrTime\", y=\"DepDel15\", \\n            color=sns.color_palette(\"colorblind\")[6], scatter_kws={\\'alpha\\':0.3}, n_boot=100)\\nsns.heatmap(corr_matrix.loc[[\"DepDel15\"], [\"CRSArrTime\"]].T, \\n            annot=True, fmt=\".2f\", ax=axis[3, 1])\\n\\n# Distance\\nsns.regplot(ax=axis[2, 2], data=df_sample, x=\"Distance\", y=\"DepDel15\", \\n            color=sns.color_palette(\"colorblind\")[7], scatter_kws={\\'alpha\\':0.3}, n_boot=100)\\nsns.heatmap(corr_matrix.loc[[\"DepDel15\"], [\"Distance\"]].T, \\n            annot=True, fmt=\".2f\", ax=axis[3, 2])\\n\\n# Ocultar los subplots vacíos\\naxis[2, 3].set_visible(False)\\naxis[3, 3].set_visible(False)\\n\\n# Ajustar títulos\\naxis[0, 0].set_title(\"Day of Week vs Delay\", fontsize=12)\\naxis[0, 1].set_title(\"Month vs Delay\", fontsize=12)\\naxis[0, 2].set_title(\"Quarter vs Delay\", fontsize=12)\\naxis[0, 3].set_title(\"Day of Month vs Delay\", fontsize=12)\\naxis[2, 0].set_title(\"Departure Time vs Delay\", fontsize=12)\\naxis[2, 1].set_title(\"Scheduled Departure Time vs Delay\", fontsize=12)\\naxis[2, 2].set_title(\"Distance vs Delay\", fontsize=12)\\n\\n# Ajustar el diseño\\nplt.tight_layout()\\nplt.show()'"
      ]
     },
     "execution_count": 73,
     "metadata": {},
     "output_type": "execute_result"
    }
   ],
   "source": [
    "'''# Tomar muestra y pre-calcular correlaciones\n",
    "df_sample = df_num.sample(frac=0.5, random_state=42)\n",
    "corr_matrix = df_num.corr()\n",
    "\n",
    "fig, axis = plt.subplots(4, 4, figsize=(20, 20))\n",
    "\n",
    "# DayOfWeek\n",
    "sns.regplot(ax=axis[0, 0], data=df_sample, x=\"DayOfWeek\", y=\"DepDel15\", \n",
    "            scatter_kws={'alpha':0.3}, n_boot=100)\n",
    "sns.heatmap(corr_matrix.loc[[\"DepDel15\"], [\"DayOfWeek\"]].T, \n",
    "            annot=True, fmt=\".2f\", ax=axis[1, 0], cbar=False)\n",
    "\n",
    "# Month\n",
    "sns.regplot(ax=axis[0, 1], data=df_sample, x=\"Month\", y=\"DepDel15\", \n",
    "            color=sns.color_palette(\"colorblind\")[2], scatter_kws={'alpha':0.3}, n_boot=100)\n",
    "sns.heatmap(corr_matrix.loc[[\"DepDel15\"], [\"Month\"]].T, \n",
    "            annot=True, fmt=\".2f\", ax=axis[1, 1])\n",
    "\n",
    "# Quarter\n",
    "sns.regplot(ax=axis[0, 2], data=df_sample, x=\"Quarter\", y=\"DepDel15\", \n",
    "            color=sns.color_palette(\"colorblind\")[3], scatter_kws={'alpha':0.3}, n_boot=100)\n",
    "sns.heatmap(corr_matrix.loc[[\"DepDel15\"], [\"Quarter\"]].T, \n",
    "            annot=True, fmt=\".2f\", ax=axis[1, 2])\n",
    "\n",
    "# DayofMonth\n",
    "sns.regplot(ax=axis[0, 3], data=df_sample, x=\"DayofMonth\", y=\"DepDel15\", \n",
    "            color=sns.color_palette(\"colorblind\")[4], scatter_kws={'alpha':0.3}, n_boot=100)\n",
    "sns.heatmap(corr_matrix.loc[[\"DepDel15\"], [\"DayofMonth\"]].T, \n",
    "            annot=True, fmt=\".2f\", ax=axis[1, 3])\n",
    "\n",
    "# DepTime\n",
    "sns.regplot(ax=axis[2, 0], data=df_sample, x=\"CRSDepTime\", y=\"DepDel15\", \n",
    "            color=sns.color_palette(\"colorblind\")[5], scatter_kws={'alpha':0.3}, n_boot=100)\n",
    "sns.heatmap(corr_matrix.loc[[\"DepDel15\"], [\"CRSDepTime\"]].T, \n",
    "            annot=True, fmt=\".2f\", ax=axis[3, 0])\n",
    "\n",
    "# CRSDepTime\n",
    "sns.regplot(ax=axis[2, 1], data=df_sample, x=\"CRSArrTime\", y=\"DepDel15\", \n",
    "            color=sns.color_palette(\"colorblind\")[6], scatter_kws={'alpha':0.3}, n_boot=100)\n",
    "sns.heatmap(corr_matrix.loc[[\"DepDel15\"], [\"CRSArrTime\"]].T, \n",
    "            annot=True, fmt=\".2f\", ax=axis[3, 1])\n",
    "\n",
    "# Distance\n",
    "sns.regplot(ax=axis[2, 2], data=df_sample, x=\"Distance\", y=\"DepDel15\", \n",
    "            color=sns.color_palette(\"colorblind\")[7], scatter_kws={'alpha':0.3}, n_boot=100)\n",
    "sns.heatmap(corr_matrix.loc[[\"DepDel15\"], [\"Distance\"]].T, \n",
    "            annot=True, fmt=\".2f\", ax=axis[3, 2])\n",
    "\n",
    "# Ocultar los subplots vacíos\n",
    "axis[2, 3].set_visible(False)\n",
    "axis[3, 3].set_visible(False)\n",
    "\n",
    "# Ajustar títulos\n",
    "axis[0, 0].set_title(\"Day of Week vs Delay\", fontsize=12)\n",
    "axis[0, 1].set_title(\"Month vs Delay\", fontsize=12)\n",
    "axis[0, 2].set_title(\"Quarter vs Delay\", fontsize=12)\n",
    "axis[0, 3].set_title(\"Day of Month vs Delay\", fontsize=12)\n",
    "axis[2, 0].set_title(\"Departure Time vs Delay\", fontsize=12)\n",
    "axis[2, 1].set_title(\"Scheduled Departure Time vs Delay\", fontsize=12)\n",
    "axis[2, 2].set_title(\"Distance vs Delay\", fontsize=12)\n",
    "\n",
    "# Ajustar el diseño\n",
    "plt.tight_layout()\n",
    "plt.show()'''"
   ]
  },
  {
   "cell_type": "code",
   "execution_count": 74,
   "metadata": {},
   "outputs": [
    {
     "data": {
      "text/plain": [
       "'# Tomar muestra y pre-calcular correlaciones\\ndf_sample = df_num.sample(frac=0.5, random_state=42)\\ncorr_matrix = df_num.corr()\\n\\nfig, axis = plt.subplots(4, 4, figsize=(20, 20))\\n\\n# DayOfWeek\\nsns.regplot(ax=axis[0, 0], data=df_sample, x=\"DayOfWeek\", y=\"DepDelay\", \\n            scatter_kws={\\'alpha\\':0.3}, n_boot=100)\\nsns.heatmap(corr_matrix.loc[[\"DepDelay\"], [\"DayOfWeek\"]].T, \\n            annot=True, fmt=\".2f\", ax=axis[1, 0], cbar=False)\\n\\n# Month\\nsns.regplot(ax=axis[0, 1], data=df_sample, x=\"Month\", y=\"DepDelay\", \\n            color=sns.color_palette(\"colorblind\")[2], scatter_kws={\\'alpha\\':0.3}, n_boot=100)\\nsns.heatmap(corr_matrix.loc[[\"DepDelay\"], [\"Month\"]].T, \\n            annot=True, fmt=\".2f\", ax=axis[1, 1])\\n\\n# Quarter\\nsns.regplot(ax=axis[0, 2], data=df_sample, x=\"Quarter\", y=\"DepDelay\", \\n            color=sns.color_palette(\"colorblind\")[3], scatter_kws={\\'alpha\\':0.3}, n_boot=100)\\nsns.heatmap(corr_matrix.loc[[\"DepDelay\"], [\"Quarter\"]].T, \\n            annot=True, fmt=\".2f\", ax=axis[1, 2])\\n\\n# DayofMonth\\nsns.regplot(ax=axis[0, 3], data=df_sample, x=\"DayofMonth\", y=\"DepDelay\", \\n            color=sns.color_palette(\"colorblind\")[4], scatter_kws={\\'alpha\\':0.3}, n_boot=100)\\nsns.heatmap(corr_matrix.loc[[\"DepDelay\"], [\"DayofMonth\"]].T, \\n            annot=True, fmt=\".2f\", ax=axis[1, 3])\\n\\n# DepTime\\nsns.regplot(ax=axis[2, 0], data=df_sample, x=\"CRSDepTime\", y=\"DepDelay\", \\n            color=sns.color_palette(\"colorblind\")[5], scatter_kws={\\'alpha\\':0.3}, n_boot=100)\\nsns.heatmap(corr_matrix.loc[[\"DepDelay\"], [\"CRSDepTime\"]].T, \\n            annot=True, fmt=\".2f\", ax=axis[3, 0])\\n\\n# CRSDepTime\\nsns.regplot(ax=axis[2, 1], data=df_sample, x=\"CRSArrTime\", y=\"DepDelay\", \\n            color=sns.color_palette(\"colorblind\")[6], scatter_kws={\\'alpha\\':0.3}, n_boot=100)\\nsns.heatmap(corr_matrix.loc[[\"DepDelay\"], [\"CRSArrTime\"]].T, \\n            annot=True, fmt=\".2f\", ax=axis[3, 1])\\n\\n# Distance\\nsns.regplot(ax=axis[2, 2], data=df_sample, x=\"Distance\", y=\"DepDelay\", \\n            color=sns.color_palette(\"colorblind\")[7], scatter_kws={\\'alpha\\':0.3}, n_boot=100)\\nsns.heatmap(corr_matrix.loc[[\"DepDelay\"], [\"Distance\"]].T, \\n            annot=True, fmt=\".2f\", ax=axis[3, 2])\\n\\n# Ocultar los subplots vacíos\\naxis[2, 3].set_visible(False)\\naxis[3, 3].set_visible(False)\\n\\n# Ajustar títulos\\naxis[0, 0].set_title(\"Day of Week vs Delay Time\", fontsize=12)\\naxis[0, 1].set_title(\"Month vs Delay Time\", fontsize=12)\\naxis[0, 2].set_title(\"Quarter vs Delay Time\", fontsize=12)\\naxis[0, 3].set_title(\"Day of Month vs Delay Time\", fontsize=12)\\naxis[2, 0].set_title(\"Departure Time vs Delay Time\", fontsize=12)\\naxis[2, 1].set_title(\"Scheduled Departure Time vs Delay Time\", fontsize=12)\\naxis[2, 2].set_title(\"Distance vs Delay Time\", fontsize=12)\\n\\n# Ajustar el diseño\\nplt.tight_layout()\\nplt.show()'"
      ]
     },
     "execution_count": 74,
     "metadata": {},
     "output_type": "execute_result"
    }
   ],
   "source": [
    "'''# Tomar muestra y pre-calcular correlaciones\n",
    "df_sample = df_num.sample(frac=0.5, random_state=42)\n",
    "corr_matrix = df_num.corr()\n",
    "\n",
    "fig, axis = plt.subplots(4, 4, figsize=(20, 20))\n",
    "\n",
    "# DayOfWeek\n",
    "sns.regplot(ax=axis[0, 0], data=df_sample, x=\"DayOfWeek\", y=\"DepDelay\", \n",
    "            scatter_kws={'alpha':0.3}, n_boot=100)\n",
    "sns.heatmap(corr_matrix.loc[[\"DepDelay\"], [\"DayOfWeek\"]].T, \n",
    "            annot=True, fmt=\".2f\", ax=axis[1, 0], cbar=False)\n",
    "\n",
    "# Month\n",
    "sns.regplot(ax=axis[0, 1], data=df_sample, x=\"Month\", y=\"DepDelay\", \n",
    "            color=sns.color_palette(\"colorblind\")[2], scatter_kws={'alpha':0.3}, n_boot=100)\n",
    "sns.heatmap(corr_matrix.loc[[\"DepDelay\"], [\"Month\"]].T, \n",
    "            annot=True, fmt=\".2f\", ax=axis[1, 1])\n",
    "\n",
    "# Quarter\n",
    "sns.regplot(ax=axis[0, 2], data=df_sample, x=\"Quarter\", y=\"DepDelay\", \n",
    "            color=sns.color_palette(\"colorblind\")[3], scatter_kws={'alpha':0.3}, n_boot=100)\n",
    "sns.heatmap(corr_matrix.loc[[\"DepDelay\"], [\"Quarter\"]].T, \n",
    "            annot=True, fmt=\".2f\", ax=axis[1, 2])\n",
    "\n",
    "# DayofMonth\n",
    "sns.regplot(ax=axis[0, 3], data=df_sample, x=\"DayofMonth\", y=\"DepDelay\", \n",
    "            color=sns.color_palette(\"colorblind\")[4], scatter_kws={'alpha':0.3}, n_boot=100)\n",
    "sns.heatmap(corr_matrix.loc[[\"DepDelay\"], [\"DayofMonth\"]].T, \n",
    "            annot=True, fmt=\".2f\", ax=axis[1, 3])\n",
    "\n",
    "# DepTime\n",
    "sns.regplot(ax=axis[2, 0], data=df_sample, x=\"CRSDepTime\", y=\"DepDelay\", \n",
    "            color=sns.color_palette(\"colorblind\")[5], scatter_kws={'alpha':0.3}, n_boot=100)\n",
    "sns.heatmap(corr_matrix.loc[[\"DepDelay\"], [\"CRSDepTime\"]].T, \n",
    "            annot=True, fmt=\".2f\", ax=axis[3, 0])\n",
    "\n",
    "# CRSDepTime\n",
    "sns.regplot(ax=axis[2, 1], data=df_sample, x=\"CRSArrTime\", y=\"DepDelay\", \n",
    "            color=sns.color_palette(\"colorblind\")[6], scatter_kws={'alpha':0.3}, n_boot=100)\n",
    "sns.heatmap(corr_matrix.loc[[\"DepDelay\"], [\"CRSArrTime\"]].T, \n",
    "            annot=True, fmt=\".2f\", ax=axis[3, 1])\n",
    "\n",
    "# Distance\n",
    "sns.regplot(ax=axis[2, 2], data=df_sample, x=\"Distance\", y=\"DepDelay\", \n",
    "            color=sns.color_palette(\"colorblind\")[7], scatter_kws={'alpha':0.3}, n_boot=100)\n",
    "sns.heatmap(corr_matrix.loc[[\"DepDelay\"], [\"Distance\"]].T, \n",
    "            annot=True, fmt=\".2f\", ax=axis[3, 2])\n",
    "\n",
    "# Ocultar los subplots vacíos\n",
    "axis[2, 3].set_visible(False)\n",
    "axis[3, 3].set_visible(False)\n",
    "\n",
    "# Ajustar títulos\n",
    "axis[0, 0].set_title(\"Day of Week vs Delay Time\", fontsize=12)\n",
    "axis[0, 1].set_title(\"Month vs Delay Time\", fontsize=12)\n",
    "axis[0, 2].set_title(\"Quarter vs Delay Time\", fontsize=12)\n",
    "axis[0, 3].set_title(\"Day of Month vs Delay Time\", fontsize=12)\n",
    "axis[2, 0].set_title(\"Departure Time vs Delay Time\", fontsize=12)\n",
    "axis[2, 1].set_title(\"Scheduled Departure Time vs Delay Time\", fontsize=12)\n",
    "axis[2, 2].set_title(\"Distance vs Delay Time\", fontsize=12)\n",
    "\n",
    "# Ajustar el diseño\n",
    "plt.tight_layout()\n",
    "plt.show()'''"
   ]
  },
  {
   "cell_type": "markdown",
   "metadata": {},
   "source": [
    "---"
   ]
  },
  {
   "cell_type": "markdown",
   "metadata": {},
   "source": [
    "## 5 - Multivariate Analysis"
   ]
  },
  {
   "cell_type": "markdown",
   "metadata": {},
   "source": [
    "---"
   ]
  },
  {
   "cell_type": "markdown",
   "metadata": {},
   "source": [
    "### 5.1 - Encoding de Variables Categóricas"
   ]
  },
  {
   "cell_type": "code",
   "execution_count": 75,
   "metadata": {},
   "outputs": [],
   "source": [
    "#Creando encoders y gurdandolos en archivos .json\n",
    "df_enc = df.copy()\n",
    "\n",
    "for column in df_cat.columns:\n",
    "    unique_values = list(df_cat[column].unique())\n",
    "    globals()[f\"{column}_enc\"] = dict(zip(unique_values, range(len(unique_values))))\n",
    "\n",
    "    json.dump(globals()[f\"{column}_enc\"], open(f'../data/interim/enc_{column}.json', 'w'))"
   ]
  },
  {
   "cell_type": "code",
   "execution_count": 76,
   "metadata": {},
   "outputs": [],
   "source": [
    "# Remplazando los valores encode en nuestro df\n",
    "for column in df_cat.columns:\n",
    "    df_enc[column] = df_enc[column].map(json.load(open(f'../data/interim/enc_{column}.json')))"
   ]
  },
  {
   "cell_type": "code",
   "execution_count": 77,
   "metadata": {},
   "outputs": [
    {
     "data": {
      "text/plain": [
       "224"
      ]
     },
     "execution_count": 77,
     "metadata": {},
     "output_type": "execute_result"
    }
   ],
   "source": [
    "del df, df_cat, df_num\n",
    "\n",
    "gc.collect()"
   ]
  },
  {
   "cell_type": "markdown",
   "metadata": {},
   "source": [
    "### 5.2 - Numerical - Categorical analysis (Correlational Analysis)"
   ]
  },
  {
   "cell_type": "code",
   "execution_count": 78,
   "metadata": {},
   "outputs": [
    {
     "data": {
      "text/plain": [
       "'#Pairplot para visualizar relaciones entre variables\\nplt.figure(figsize=(12, 12))\\nsns.pairplot(data=df_enc.sample(frac=0.1, random_state=42))  #Muestra del 10% para optimizar rendimiento\\nplt.show()\\n\\n#Heatmap para visualizar la matriz de correlación\\nplt.figure(figsize=(20, 16))\\ncorr_matrix = df_enc.corr()\\n\\nsns.heatmap(corr_matrix.round(2), \\n            annot=True,\\n            mask=np.triu(corr_matrix),  #Oculta la mitad superior para claridad\\n            cmap=\\'RdBu\\',\\n            center=0,\\n            square=True,\\n            fmt=\\'.2f\\',\\n            annot_kws={\\'size\\': 8},  \\n            cbar_kws={\\'shrink\\': .8}\\n            )\\nplt.title(\"Matriz de Correlación entre Variables Numéricas y Categóricas\", fontsize=14, fontweight=\\'bold\\')\\nplt.show()'"
      ]
     },
     "execution_count": 78,
     "metadata": {},
     "output_type": "execute_result"
    }
   ],
   "source": [
    "'''#Pairplot para visualizar relaciones entre variables\n",
    "plt.figure(figsize=(12, 12))\n",
    "sns.pairplot(data=df_enc.sample(frac=0.1, random_state=42))  #Muestra del 10% para optimizar rendimiento\n",
    "plt.show()\n",
    "\n",
    "#Heatmap para visualizar la matriz de correlación\n",
    "plt.figure(figsize=(20, 16))\n",
    "corr_matrix = df_enc.corr()\n",
    "\n",
    "sns.heatmap(corr_matrix.round(2), \n",
    "            annot=True,\n",
    "            mask=np.triu(corr_matrix),  #Oculta la mitad superior para claridad\n",
    "            cmap='RdBu',\n",
    "            center=0,\n",
    "            square=True,\n",
    "            fmt='.2f',\n",
    "            annot_kws={'size': 8},  \n",
    "            cbar_kws={'shrink': .8}\n",
    "            )\n",
    "plt.title(\"Matriz de Correlación entre Variables Numéricas y Categóricas\", fontsize=14, fontweight='bold')\n",
    "plt.show()'''"
   ]
  },
  {
   "cell_type": "markdown",
   "metadata": {},
   "source": [
    "---"
   ]
  },
  {
   "cell_type": "markdown",
   "metadata": {},
   "source": [
    "## 6 - Feature Engineering"
   ]
  },
  {
   "cell_type": "markdown",
   "metadata": {},
   "source": [
    "---"
   ]
  },
  {
   "cell_type": "markdown",
   "metadata": {},
   "source": [
    "### 6.1 - Creating new features "
   ]
  },
  {
   "cell_type": "markdown",
   "metadata": {},
   "source": [
    "#### 6.1.1 - Dias de semana y fin de semana"
   ]
  },
  {
   "cell_type": "code",
   "execution_count": 79,
   "metadata": {},
   "outputs": [
    {
     "data": {
      "text/html": [
       "<div>\n",
       "<style scoped>\n",
       "    .dataframe tbody tr th:only-of-type {\n",
       "        vertical-align: middle;\n",
       "    }\n",
       "\n",
       "    .dataframe tbody tr th {\n",
       "        vertical-align: top;\n",
       "    }\n",
       "\n",
       "    .dataframe thead th {\n",
       "        text-align: right;\n",
       "    }\n",
       "</style>\n",
       "<table border=\"1\" class=\"dataframe\">\n",
       "  <thead>\n",
       "    <tr style=\"text-align: right;\">\n",
       "      <th></th>\n",
       "      <th>FlightDate</th>\n",
       "      <th>Airline</th>\n",
       "      <th>Origin</th>\n",
       "      <th>Dest</th>\n",
       "      <th>OriginCityName</th>\n",
       "      <th>DestCityName</th>\n",
       "      <th>OriginStateName</th>\n",
       "      <th>DestStateName</th>\n",
       "      <th>CRSDepTime</th>\n",
       "      <th>CRSArrTime</th>\n",
       "      <th>Distance</th>\n",
       "      <th>Quarter</th>\n",
       "      <th>Month</th>\n",
       "      <th>DayofMonth</th>\n",
       "      <th>DayOfWeek</th>\n",
       "      <th>DepDel15</th>\n",
       "      <th>DepDelay</th>\n",
       "      <th>DelayCategory</th>\n",
       "      <th>WeekType</th>\n",
       "    </tr>\n",
       "  </thead>\n",
       "  <tbody>\n",
       "    <tr>\n",
       "      <th>0</th>\n",
       "      <td>2021-03-03</td>\n",
       "      <td>0</td>\n",
       "      <td>0</td>\n",
       "      <td>0</td>\n",
       "      <td>0</td>\n",
       "      <td>0</td>\n",
       "      <td>0</td>\n",
       "      <td>0</td>\n",
       "      <td>724</td>\n",
       "      <td>843</td>\n",
       "      <td>262.0</td>\n",
       "      <td>1</td>\n",
       "      <td>3</td>\n",
       "      <td>3</td>\n",
       "      <td>3</td>\n",
       "      <td>0.0</td>\n",
       "      <td>-10.0</td>\n",
       "      <td>OnTime_Early</td>\n",
       "      <td>1</td>\n",
       "    </tr>\n",
       "    <tr>\n",
       "      <th>1</th>\n",
       "      <td>2021-03-03</td>\n",
       "      <td>0</td>\n",
       "      <td>1</td>\n",
       "      <td>1</td>\n",
       "      <td>1</td>\n",
       "      <td>1</td>\n",
       "      <td>1</td>\n",
       "      <td>1</td>\n",
       "      <td>922</td>\n",
       "      <td>1040</td>\n",
       "      <td>262.0</td>\n",
       "      <td>1</td>\n",
       "      <td>3</td>\n",
       "      <td>3</td>\n",
       "      <td>3</td>\n",
       "      <td>0.0</td>\n",
       "      <td>-5.0</td>\n",
       "      <td>OnTime_Early</td>\n",
       "      <td>1</td>\n",
       "    </tr>\n",
       "    <tr>\n",
       "      <th>2</th>\n",
       "      <td>2021-03-03</td>\n",
       "      <td>0</td>\n",
       "      <td>2</td>\n",
       "      <td>2</td>\n",
       "      <td>2</td>\n",
       "      <td>2</td>\n",
       "      <td>2</td>\n",
       "      <td>2</td>\n",
       "      <td>1330</td>\n",
       "      <td>1530</td>\n",
       "      <td>843.0</td>\n",
       "      <td>1</td>\n",
       "      <td>3</td>\n",
       "      <td>3</td>\n",
       "      <td>3</td>\n",
       "      <td>0.0</td>\n",
       "      <td>-9.0</td>\n",
       "      <td>OnTime_Early</td>\n",
       "      <td>1</td>\n",
       "    </tr>\n",
       "  </tbody>\n",
       "</table>\n",
       "</div>"
      ],
      "text/plain": [
       "  FlightDate  Airline  Origin  Dest  OriginCityName  DestCityName  \\\n",
       "0 2021-03-03        0       0     0               0             0   \n",
       "1 2021-03-03        0       1     1               1             1   \n",
       "2 2021-03-03        0       2     2               2             2   \n",
       "\n",
       "   OriginStateName  DestStateName  CRSDepTime  CRSArrTime  Distance  Quarter  \\\n",
       "0                0              0         724         843     262.0        1   \n",
       "1                1              1         922        1040     262.0        1   \n",
       "2                2              2        1330        1530     843.0        1   \n",
       "\n",
       "   Month  DayofMonth  DayOfWeek  DepDel15  DepDelay DelayCategory  WeekType  \n",
       "0      3           3          3       0.0     -10.0  OnTime_Early         1  \n",
       "1      3           3          3       0.0      -5.0  OnTime_Early         1  \n",
       "2      3           3          3       0.0      -9.0  OnTime_Early         1  "
      ]
     },
     "execution_count": 79,
     "metadata": {},
     "output_type": "execute_result"
    }
   ],
   "source": [
    "# 1 = Weekday, 0 = Weekend\n",
    "Day_Week_Type = []\n",
    "for value in df_enc['DayOfWeek']:\n",
    "    if value in (0,1,2,3,4):\n",
    "        Day_Week_Type.append(1) # Weekday\n",
    "    else:\n",
    "        Day_Week_Type.append(0) # Weekend\n",
    "df_enc['WeekType'] = Day_Week_Type\n",
    "df_enc.head(3)"
   ]
  },
  {
   "cell_type": "markdown",
   "metadata": {},
   "source": [
    "#### 6.1.2 - Dias festivos"
   ]
  },
  {
   "cell_type": "code",
   "execution_count": 80,
   "metadata": {},
   "outputs": [
    {
     "name": "stdout",
     "output_type": "stream",
     "text": [
      "dia_festivo\n",
      "0    5959420\n",
      "1     244034\n",
      "Name: count, dtype: int64\n"
     ]
    }
   ],
   "source": [
    "import holidays \n",
    "\n",
    "# Crear una lista de días festivos\n",
    "dias_festivos = holidays.US(years=[2021]) \n",
    "\n",
    "# Crear una columna binaria indicando si es un día festivo\n",
    "df_enc['dia_festivo'] = df_enc['FlightDate'].apply(lambda x: 1 if x in dias_festivos else 0)\n",
    "\n",
    "# Verificar cuántos vuelos cayeron en días festivos\n",
    "print(df_enc['dia_festivo'].value_counts())\n"
   ]
  },
  {
   "cell_type": "markdown",
   "metadata": {
    "vscode": {
     "languageId": "bat"
    }
   },
   "source": [
    "### 6.2 - Eliminando features innecesarios"
   ]
  },
  {
   "cell_type": "code",
   "execution_count": 81,
   "metadata": {},
   "outputs": [],
   "source": [
    "#Eliminando DepDelay porque esto solo nos funcionara si queremos hacer regresion, pero puede entorpecer los datos de la clasificacion\n",
    "df_enc = df_enc.drop('DepDelay', axis=1)\n",
    "#Eliminando FlightDat porque el modelo no puede procesar esos tipos de datos, y ya tenemos las columnas necesarias de fecha\n",
    "df_enc = df_enc.drop('FlightDate', axis=1)\n",
    "#Eliminando DelayVategory, solo nos funcionaria si quisieramos hacer un clasificador de variables multiples debido a que se basa en nuestro target\n",
    "df_enc = df_enc.drop('DelayCategory', axis=1)"
   ]
  },
  {
   "cell_type": "code",
   "execution_count": 82,
   "metadata": {},
   "outputs": [
    {
     "data": {
      "text/html": [
       "<div>\n",
       "<style scoped>\n",
       "    .dataframe tbody tr th:only-of-type {\n",
       "        vertical-align: middle;\n",
       "    }\n",
       "\n",
       "    .dataframe tbody tr th {\n",
       "        vertical-align: top;\n",
       "    }\n",
       "\n",
       "    .dataframe thead th {\n",
       "        text-align: right;\n",
       "    }\n",
       "</style>\n",
       "<table border=\"1\" class=\"dataframe\">\n",
       "  <thead>\n",
       "    <tr style=\"text-align: right;\">\n",
       "      <th></th>\n",
       "      <th>Airline</th>\n",
       "      <th>Origin</th>\n",
       "      <th>Dest</th>\n",
       "      <th>OriginCityName</th>\n",
       "      <th>DestCityName</th>\n",
       "      <th>OriginStateName</th>\n",
       "      <th>DestStateName</th>\n",
       "      <th>CRSDepTime</th>\n",
       "      <th>CRSArrTime</th>\n",
       "      <th>Distance</th>\n",
       "      <th>Quarter</th>\n",
       "      <th>Month</th>\n",
       "      <th>DayofMonth</th>\n",
       "      <th>DayOfWeek</th>\n",
       "      <th>DepDel15</th>\n",
       "      <th>WeekType</th>\n",
       "      <th>dia_festivo</th>\n",
       "    </tr>\n",
       "  </thead>\n",
       "  <tbody>\n",
       "    <tr>\n",
       "      <th>0</th>\n",
       "      <td>0</td>\n",
       "      <td>0</td>\n",
       "      <td>0</td>\n",
       "      <td>0</td>\n",
       "      <td>0</td>\n",
       "      <td>0</td>\n",
       "      <td>0</td>\n",
       "      <td>724</td>\n",
       "      <td>843</td>\n",
       "      <td>262.0</td>\n",
       "      <td>1</td>\n",
       "      <td>3</td>\n",
       "      <td>3</td>\n",
       "      <td>3</td>\n",
       "      <td>0.0</td>\n",
       "      <td>1</td>\n",
       "      <td>0</td>\n",
       "    </tr>\n",
       "  </tbody>\n",
       "</table>\n",
       "</div>"
      ],
      "text/plain": [
       "   Airline  Origin  Dest  OriginCityName  DestCityName  OriginStateName  \\\n",
       "0        0       0     0               0             0                0   \n",
       "\n",
       "   DestStateName  CRSDepTime  CRSArrTime  Distance  Quarter  Month  \\\n",
       "0              0         724         843     262.0        1      3   \n",
       "\n",
       "   DayofMonth  DayOfWeek  DepDel15  WeekType  dia_festivo  \n",
       "0           3          3       0.0         1            0  "
      ]
     },
     "execution_count": 82,
     "metadata": {},
     "output_type": "execute_result"
    }
   ],
   "source": [
    "df_enc.head(1)"
   ]
  },
  {
   "cell_type": "markdown",
   "metadata": {},
   "source": [
    "### 6.3 - Outlier Analysis: Visualización y Tratamiento"
   ]
  },
  {
   "cell_type": "code",
   "execution_count": 83,
   "metadata": {},
   "outputs": [
    {
     "data": {
      "text/html": [
       "<div>\n",
       "<style scoped>\n",
       "    .dataframe tbody tr th:only-of-type {\n",
       "        vertical-align: middle;\n",
       "    }\n",
       "\n",
       "    .dataframe tbody tr th {\n",
       "        vertical-align: top;\n",
       "    }\n",
       "\n",
       "    .dataframe thead th {\n",
       "        text-align: right;\n",
       "    }\n",
       "</style>\n",
       "<table border=\"1\" class=\"dataframe\">\n",
       "  <thead>\n",
       "    <tr style=\"text-align: right;\">\n",
       "      <th></th>\n",
       "      <th>Airline</th>\n",
       "      <th>Origin</th>\n",
       "      <th>Dest</th>\n",
       "      <th>OriginCityName</th>\n",
       "      <th>DestCityName</th>\n",
       "      <th>OriginStateName</th>\n",
       "      <th>DestStateName</th>\n",
       "      <th>CRSDepTime</th>\n",
       "      <th>CRSArrTime</th>\n",
       "      <th>Distance</th>\n",
       "      <th>Quarter</th>\n",
       "      <th>Month</th>\n",
       "      <th>DayofMonth</th>\n",
       "      <th>DayOfWeek</th>\n",
       "      <th>DepDel15</th>\n",
       "      <th>WeekType</th>\n",
       "      <th>dia_festivo</th>\n",
       "    </tr>\n",
       "  </thead>\n",
       "  <tbody>\n",
       "    <tr>\n",
       "      <th>count</th>\n",
       "      <td>6203454.00</td>\n",
       "      <td>6203454.00</td>\n",
       "      <td>6203454.00</td>\n",
       "      <td>6203454.00</td>\n",
       "      <td>6203454.00</td>\n",
       "      <td>6203454.00</td>\n",
       "      <td>6203454.00</td>\n",
       "      <td>6203454.00</td>\n",
       "      <td>6203454.00</td>\n",
       "      <td>6203454.00</td>\n",
       "      <td>6203454.00</td>\n",
       "      <td>6203454.00</td>\n",
       "      <td>6203454.00</td>\n",
       "      <td>6203454.00</td>\n",
       "      <td>6203454.00</td>\n",
       "      <td>6203454.00</td>\n",
       "      <td>6203454.00</td>\n",
       "    </tr>\n",
       "    <tr>\n",
       "      <th>mean</th>\n",
       "      <td>9.21</td>\n",
       "      <td>108.24</td>\n",
       "      <td>110.64</td>\n",
       "      <td>100.96</td>\n",
       "      <td>103.54</td>\n",
       "      <td>17.35</td>\n",
       "      <td>18.21</td>\n",
       "      <td>1323.05</td>\n",
       "      <td>1497.59</td>\n",
       "      <td>796.41</td>\n",
       "      <td>2.65</td>\n",
       "      <td>6.97</td>\n",
       "      <td>15.79</td>\n",
       "      <td>4.01</td>\n",
       "      <td>0.17</td>\n",
       "      <td>0.57</td>\n",
       "      <td>0.04</td>\n",
       "    </tr>\n",
       "    <tr>\n",
       "      <th>std</th>\n",
       "      <td>6.11</td>\n",
       "      <td>89.08</td>\n",
       "      <td>88.95</td>\n",
       "      <td>84.30</td>\n",
       "      <td>84.49</td>\n",
       "      <td>13.62</td>\n",
       "      <td>13.73</td>\n",
       "      <td>473.83</td>\n",
       "      <td>494.22</td>\n",
       "      <td>584.50</td>\n",
       "      <td>1.08</td>\n",
       "      <td>3.30</td>\n",
       "      <td>8.79</td>\n",
       "      <td>2.00</td>\n",
       "      <td>0.38</td>\n",
       "      <td>0.50</td>\n",
       "      <td>0.19</td>\n",
       "    </tr>\n",
       "    <tr>\n",
       "      <th>min</th>\n",
       "      <td>0.00</td>\n",
       "      <td>0.00</td>\n",
       "      <td>0.00</td>\n",
       "      <td>0.00</td>\n",
       "      <td>0.00</td>\n",
       "      <td>0.00</td>\n",
       "      <td>0.00</td>\n",
       "      <td>1.00</td>\n",
       "      <td>1.00</td>\n",
       "      <td>31.00</td>\n",
       "      <td>1.00</td>\n",
       "      <td>1.00</td>\n",
       "      <td>1.00</td>\n",
       "      <td>1.00</td>\n",
       "      <td>0.00</td>\n",
       "      <td>0.00</td>\n",
       "      <td>0.00</td>\n",
       "    </tr>\n",
       "    <tr>\n",
       "      <th>25%</th>\n",
       "      <td>6.00</td>\n",
       "      <td>24.00</td>\n",
       "      <td>33.00</td>\n",
       "      <td>24.00</td>\n",
       "      <td>28.00</td>\n",
       "      <td>5.00</td>\n",
       "      <td>5.00</td>\n",
       "      <td>920.00</td>\n",
       "      <td>1118.00</td>\n",
       "      <td>370.00</td>\n",
       "      <td>2.00</td>\n",
       "      <td>4.00</td>\n",
       "      <td>8.00</td>\n",
       "      <td>2.00</td>\n",
       "      <td>0.00</td>\n",
       "      <td>0.00</td>\n",
       "      <td>0.00</td>\n",
       "    </tr>\n",
       "    <tr>\n",
       "      <th>50%</th>\n",
       "      <td>9.00</td>\n",
       "      <td>92.00</td>\n",
       "      <td>86.00</td>\n",
       "      <td>89.00</td>\n",
       "      <td>82.00</td>\n",
       "      <td>12.00</td>\n",
       "      <td>16.00</td>\n",
       "      <td>1315.00</td>\n",
       "      <td>1520.00</td>\n",
       "      <td>646.00</td>\n",
       "      <td>3.00</td>\n",
       "      <td>7.00</td>\n",
       "      <td>16.00</td>\n",
       "      <td>4.00</td>\n",
       "      <td>0.00</td>\n",
       "      <td>1.00</td>\n",
       "      <td>0.00</td>\n",
       "    </tr>\n",
       "    <tr>\n",
       "      <th>75%</th>\n",
       "      <td>15.00</td>\n",
       "      <td>156.00</td>\n",
       "      <td>162.00</td>\n",
       "      <td>142.00</td>\n",
       "      <td>144.00</td>\n",
       "      <td>28.00</td>\n",
       "      <td>28.00</td>\n",
       "      <td>1721.00</td>\n",
       "      <td>1913.00</td>\n",
       "      <td>1034.00</td>\n",
       "      <td>4.00</td>\n",
       "      <td>10.00</td>\n",
       "      <td>23.00</td>\n",
       "      <td>6.00</td>\n",
       "      <td>0.00</td>\n",
       "      <td>1.00</td>\n",
       "      <td>0.00</td>\n",
       "    </tr>\n",
       "    <tr>\n",
       "      <th>max</th>\n",
       "      <td>21.00</td>\n",
       "      <td>379.00</td>\n",
       "      <td>379.00</td>\n",
       "      <td>373.00</td>\n",
       "      <td>373.00</td>\n",
       "      <td>52.00</td>\n",
       "      <td>52.00</td>\n",
       "      <td>2359.00</td>\n",
       "      <td>2400.00</td>\n",
       "      <td>5812.00</td>\n",
       "      <td>4.00</td>\n",
       "      <td>12.00</td>\n",
       "      <td>31.00</td>\n",
       "      <td>7.00</td>\n",
       "      <td>1.00</td>\n",
       "      <td>1.00</td>\n",
       "      <td>1.00</td>\n",
       "    </tr>\n",
       "  </tbody>\n",
       "</table>\n",
       "</div>"
      ],
      "text/plain": [
       "          Airline      Origin        Dest  OriginCityName  DestCityName  \\\n",
       "count  6203454.00  6203454.00  6203454.00      6203454.00    6203454.00   \n",
       "mean         9.21      108.24      110.64          100.96        103.54   \n",
       "std          6.11       89.08       88.95           84.30         84.49   \n",
       "min          0.00        0.00        0.00            0.00          0.00   \n",
       "25%          6.00       24.00       33.00           24.00         28.00   \n",
       "50%          9.00       92.00       86.00           89.00         82.00   \n",
       "75%         15.00      156.00      162.00          142.00        144.00   \n",
       "max         21.00      379.00      379.00          373.00        373.00   \n",
       "\n",
       "       OriginStateName  DestStateName  CRSDepTime  CRSArrTime    Distance  \\\n",
       "count       6203454.00     6203454.00  6203454.00  6203454.00  6203454.00   \n",
       "mean             17.35          18.21     1323.05     1497.59      796.41   \n",
       "std              13.62          13.73      473.83      494.22      584.50   \n",
       "min               0.00           0.00        1.00        1.00       31.00   \n",
       "25%               5.00           5.00      920.00     1118.00      370.00   \n",
       "50%              12.00          16.00     1315.00     1520.00      646.00   \n",
       "75%              28.00          28.00     1721.00     1913.00     1034.00   \n",
       "max              52.00          52.00     2359.00     2400.00     5812.00   \n",
       "\n",
       "          Quarter       Month  DayofMonth   DayOfWeek    DepDel15    WeekType  \\\n",
       "count  6203454.00  6203454.00  6203454.00  6203454.00  6203454.00  6203454.00   \n",
       "mean         2.65        6.97       15.79        4.01        0.17        0.57   \n",
       "std          1.08        3.30        8.79        2.00        0.38        0.50   \n",
       "min          1.00        1.00        1.00        1.00        0.00        0.00   \n",
       "25%          2.00        4.00        8.00        2.00        0.00        0.00   \n",
       "50%          3.00        7.00       16.00        4.00        0.00        1.00   \n",
       "75%          4.00       10.00       23.00        6.00        0.00        1.00   \n",
       "max          4.00       12.00       31.00        7.00        1.00        1.00   \n",
       "\n",
       "       dia_festivo  \n",
       "count   6203454.00  \n",
       "mean          0.04  \n",
       "std           0.19  \n",
       "min           0.00  \n",
       "25%           0.00  \n",
       "50%           0.00  \n",
       "75%           0.00  \n",
       "max           1.00  "
      ]
     },
     "execution_count": 83,
     "metadata": {},
     "output_type": "execute_result"
    }
   ],
   "source": [
    "df_enc.describe().round(2)"
   ]
  },
  {
   "cell_type": "markdown",
   "metadata": {},
   "source": [
    "#### 6.3.1 - Calculando y cisualizando Outliers"
   ]
  },
  {
   "cell_type": "code",
   "execution_count": 84,
   "metadata": {},
   "outputs": [],
   "source": [
    "#Seleccionar variables continuas (numéricas) relevantes\n",
    "continuous_features = df_enc.select_dtypes(include=['float64']).columns.tolist()"
   ]
  },
  {
   "cell_type": "code",
   "execution_count": 85,
   "metadata": {},
   "outputs": [
    {
     "data": {
      "text/plain": [
       "'#Configuración de visualización con número de filas dinámico\\nnum_vars = len(continuous_features)\\nrows = (num_vars // 3) + 1  #Cantidad de filas necesarias\\nfig, axes = plt.subplots(nrows=rows, ncols=3, figsize=(15, rows * 5))\\naxes = axes.flatten()\\n\\n#Generar los boxplots\\nfor i, feature in enumerate(continuous_features):\\n    sns.boxplot(data=df_enc, x=feature, ax=axes[i], color=\"royalblue\")\\n    axes[i].set_title(f\"Boxplot de {feature}\", fontsize=12)\\n    axes[i].tick_params(labelsize=10)\\n\\n#Ocultar ejes vacíos si hay menos de 3 variables por fila\\nfor i in range(len(continuous_features), len(axes)):\\n    fig.delaxes(axes[i])\\n    \\nplt.tight_layout()\\nplt.show()'"
      ]
     },
     "execution_count": 85,
     "metadata": {},
     "output_type": "execute_result"
    }
   ],
   "source": [
    "'''#Configuración de visualización con número de filas dinámico\n",
    "num_vars = len(continuous_features)\n",
    "rows = (num_vars // 3) + 1  #Cantidad de filas necesarias\n",
    "fig, axes = plt.subplots(nrows=rows, ncols=3, figsize=(15, rows * 5))\n",
    "axes = axes.flatten()\n",
    "\n",
    "#Generar los boxplots\n",
    "for i, feature in enumerate(continuous_features):\n",
    "    sns.boxplot(data=df_enc, x=feature, ax=axes[i], color=\"royalblue\")\n",
    "    axes[i].set_title(f\"Boxplot de {feature}\", fontsize=12)\n",
    "    axes[i].tick_params(labelsize=10)\n",
    "\n",
    "#Ocultar ejes vacíos si hay menos de 3 variables por fila\n",
    "for i in range(len(continuous_features), len(axes)):\n",
    "    fig.delaxes(axes[i])\n",
    "    \n",
    "plt.tight_layout()\n",
    "plt.show()'''"
   ]
  },
  {
   "cell_type": "markdown",
   "metadata": {},
   "source": [
    "#### 6.3.2 - Removiendo Outliers"
   ]
  },
  {
   "cell_type": "code",
   "execution_count": 86,
   "metadata": {},
   "outputs": [],
   "source": [
    "#Copia para mantener el dataset original codificado\n",
    "df_enc_no = df_enc.copy()"
   ]
  },
  {
   "cell_type": "code",
   "execution_count": 87,
   "metadata": {},
   "outputs": [],
   "source": [
    "#Función para remover outliers usando IQR\n",
    "def remove_outliers(x, feature_name, allow_neg=True):\n",
    "    q1, q3 = x.quantile([0.25, 0.75])  # Cuartiles\n",
    "    iqr = q3 - q1  # Rango intercuartil\n",
    "    upper_lim = q3 + (iqr * 1.5)\n",
    "    lower_lim = q1 - (iqr * 1.5) if allow_neg else max(0, q1 - (iqr * 1.5))\n",
    "\n",
    "    #Aplicar límites\n",
    "    x = x.apply(lambda val: upper_lim if val > upper_lim else (lower_lim if val < lower_lim else val))\n",
    "\n",
    "    #Guardar límites en JSON para referencia futura\n",
    "    filename = f'../data/interim/outliers_lims_{feature_name}.json'\n",
    "    json.dump({'upper_lim': upper_lim, 'lower_lim': lower_lim}, open(filename, 'w'))\n",
    "\n",
    "    return x"
   ]
  },
  {
   "cell_type": "code",
   "execution_count": 88,
   "metadata": {},
   "outputs": [],
   "source": [
    "#Variables con y sin valores negativos\n",
    "f_outliers_with_neg = [feat for feat in continuous_features if df_enc[feat].min() < 0]\n",
    "f_outliers_no_neg = [feat for feat in continuous_features if feat not in f_outliers_with_neg]\n",
    "\n",
    "#Aplicar el método IQR en cada grupo de variables\n",
    "for feature in f_outliers_with_neg:\n",
    "    df_enc_no[feature] = remove_outliers(df_enc_no[feature], feature)\n",
    "\n",
    "for feature in f_outliers_no_neg:\n",
    "    df_enc_no[feature] = remove_outliers(df_enc_no[feature], feature, allow_neg=False)"
   ]
  },
  {
   "cell_type": "code",
   "execution_count": 89,
   "metadata": {},
   "outputs": [
    {
     "name": "stdout",
     "output_type": "stream",
     "text": [
      "Valores nulos después de eliminar outliers:\n",
      "Series([], dtype: int64)\n"
     ]
    }
   ],
   "source": [
    "#Verificar si quedan valores nulos después del tratamiento\n",
    "missing_values = df_enc_no.isna().sum()\n",
    "print(\"Valores nulos después de eliminar outliers:\")\n",
    "print(missing_values[missing_values > 0])"
   ]
  },
  {
   "cell_type": "code",
   "execution_count": 90,
   "metadata": {},
   "outputs": [
    {
     "name": "stdout",
     "output_type": "stream",
     "text": [
      "Primeras filas después del tratamiento de outliers:\n"
     ]
    },
    {
     "data": {
      "text/html": [
       "<div>\n",
       "<style scoped>\n",
       "    .dataframe tbody tr th:only-of-type {\n",
       "        vertical-align: middle;\n",
       "    }\n",
       "\n",
       "    .dataframe tbody tr th {\n",
       "        vertical-align: top;\n",
       "    }\n",
       "\n",
       "    .dataframe thead th {\n",
       "        text-align: right;\n",
       "    }\n",
       "</style>\n",
       "<table border=\"1\" class=\"dataframe\">\n",
       "  <thead>\n",
       "    <tr style=\"text-align: right;\">\n",
       "      <th></th>\n",
       "      <th>Airline</th>\n",
       "      <th>Origin</th>\n",
       "      <th>Dest</th>\n",
       "      <th>OriginCityName</th>\n",
       "      <th>DestCityName</th>\n",
       "      <th>OriginStateName</th>\n",
       "      <th>DestStateName</th>\n",
       "      <th>CRSDepTime</th>\n",
       "      <th>CRSArrTime</th>\n",
       "      <th>Distance</th>\n",
       "      <th>Quarter</th>\n",
       "      <th>Month</th>\n",
       "      <th>DayofMonth</th>\n",
       "      <th>DayOfWeek</th>\n",
       "      <th>DepDel15</th>\n",
       "      <th>WeekType</th>\n",
       "      <th>dia_festivo</th>\n",
       "    </tr>\n",
       "  </thead>\n",
       "  <tbody>\n",
       "    <tr>\n",
       "      <th>0</th>\n",
       "      <td>0</td>\n",
       "      <td>0</td>\n",
       "      <td>0</td>\n",
       "      <td>0</td>\n",
       "      <td>0</td>\n",
       "      <td>0</td>\n",
       "      <td>0</td>\n",
       "      <td>724</td>\n",
       "      <td>843</td>\n",
       "      <td>262.0</td>\n",
       "      <td>1</td>\n",
       "      <td>3</td>\n",
       "      <td>3</td>\n",
       "      <td>3</td>\n",
       "      <td>0.0</td>\n",
       "      <td>1</td>\n",
       "      <td>0</td>\n",
       "    </tr>\n",
       "  </tbody>\n",
       "</table>\n",
       "</div>"
      ],
      "text/plain": [
       "   Airline  Origin  Dest  OriginCityName  DestCityName  OriginStateName  \\\n",
       "0        0       0     0               0             0                0   \n",
       "\n",
       "   DestStateName  CRSDepTime  CRSArrTime  Distance  Quarter  Month  \\\n",
       "0              0         724         843     262.0        1      3   \n",
       "\n",
       "   DayofMonth  DayOfWeek  DepDel15  WeekType  dia_festivo  \n",
       "0           3          3       0.0         1            0  "
      ]
     },
     "execution_count": 90,
     "metadata": {},
     "output_type": "execute_result"
    }
   ],
   "source": [
    "#Confirmar la limpieza de datos\n",
    "print(\"Primeras filas después del tratamiento de outliers:\")\n",
    "df_enc_no.head(1)"
   ]
  },
  {
   "cell_type": "markdown",
   "metadata": {},
   "source": [
    "---"
   ]
  },
  {
   "cell_type": "markdown",
   "metadata": {},
   "source": [
    "## 7 - Split y Normalizacion de Datos"
   ]
  },
  {
   "cell_type": "markdown",
   "metadata": {},
   "source": [
    "---"
   ]
  },
  {
   "cell_type": "markdown",
   "metadata": {},
   "source": [
    "### 7.1 - Hacer el Split del Train y el Test"
   ]
  },
  {
   "cell_type": "code",
   "execution_count": 91,
   "metadata": {},
   "outputs": [],
   "source": [
    "def split(target, df, test_size=0.2, random_state=123):\n",
    "    X = df.drop(columns=target)\n",
    "    y = df[target]\n",
    "\n",
    "    X_train, X_test, y_train, y_test = train_test_split(X, y, test_size=test_size, random_state=random_state)\n",
    "    return X_train, X_test, y_train, y_test"
   ]
  },
  {
   "cell_type": "code",
   "execution_count": 92,
   "metadata": {},
   "outputs": [],
   "source": [
    "target = 'DepDel15'\n",
    "\n",
    "X_train_with_outliers, X_test_with_outliers, y_train, y_test = split(target, df=df_enc)\n",
    "X_train_without_outliers, X_test_without_outliers, _, _ = split(target, df=df_enc_no)\n",
    "\n",
    "X_train_with_outliers.to_csv('../data/processed/X_train_with_outliers.csv', index=False)\n",
    "X_test_with_outliers.to_csv('../data/processed/X_test_with_outliers.csv', index=False)\n",
    "X_train_without_outliers.to_csv('../data/processed/X_train_without_outliers.csv', index=False)\n",
    "X_test_without_outliers.to_csv('../data/processed/X_test_without_outliers.csv', index=False)\n",
    "\n",
    "y_train.to_csv('../data/processed/y_train.csv', index=False)\n",
    "y_test.to_csv('../data/processed/y_test.csv', index=False)"
   ]
  },
  {
   "cell_type": "markdown",
   "metadata": {},
   "source": [
    "### 7.2 - Normalization"
   ]
  },
  {
   "cell_type": "code",
   "execution_count": 93,
   "metadata": {},
   "outputs": [],
   "source": [
    "def norm(X_train, X_test, reference: str):\n",
    "    scaler = StandardScaler()\n",
    "    scaler.fit(X_train)\n",
    "    \n",
    "    X_train_norm = scaler.transform(X_train)\n",
    "    X_train_norm = pd.DataFrame(X_train_norm, index=X_train.index, columns=X_train.columns)\n",
    "\n",
    "    X_test_norm = scaler.transform(X_test)\n",
    "    X_test_norm = pd.DataFrame(X_test_norm, index=X_test.index, columns=X_test.columns)\n",
    "\n",
    "    dump(scaler, open(f'../data/processed/normalized_{reference}.sav', 'wb'))\n",
    "\n",
    "    return X_train_norm, X_test_norm"
   ]
  },
  {
   "cell_type": "code",
   "execution_count": 94,
   "metadata": {},
   "outputs": [],
   "source": [
    "X_train_with_outliers_norm, X_test_with_outliers_norm = norm(X_train_with_outliers, X_test_with_outliers, 'with_outliers')\n",
    "X_train_without_outliers_norm, X_test_without_outliers_norm = norm(X_train_without_outliers, X_test_without_outliers, 'without_outliers')"
   ]
  },
  {
   "cell_type": "markdown",
   "metadata": {},
   "source": [
    "### 7.3 - Min - Max Scaler"
   ]
  },
  {
   "cell_type": "code",
   "execution_count": 95,
   "metadata": {},
   "outputs": [],
   "source": [
    "def minmax(X_train, X_test, reference: str):\n",
    "    scaler = MinMaxScaler()\n",
    "    scaler.fit(X_train)\n",
    "    \n",
    "    X_train_minmax = scaler.transform(X_train)\n",
    "    X_train_minmax = pd.DataFrame(X_train_minmax, index = X_train.index, columns=X_train.columns)\n",
    "\n",
    "    X_test_minmax = scaler.transform(X_test)\n",
    "    X_test_minmax = pd.DataFrame(X_test_minmax, index = X_test.index, columns=X_test.columns)\n",
    "    \n",
    "    dump(scaler, open(f'../data/processed/minmax_{reference}.sav', 'wb'))\n",
    "\n",
    "    return X_train_minmax, X_test_minmax"
   ]
  },
  {
   "cell_type": "code",
   "execution_count": 96,
   "metadata": {},
   "outputs": [],
   "source": [
    "X_train_with_outliers_minmax, X_test_with_outliers_minmax = minmax(X_train_with_outliers, X_test_with_outliers, 'with_outliers')\n",
    "X_train_without_outliers_minmax, X_test_without_outliers_minmax = minmax(X_train_without_outliers, X_test_without_outliers, 'without_outliers')"
   ]
  },
  {
   "cell_type": "markdown",
   "metadata": {},
   "source": [
    "---"
   ]
  },
  {
   "cell_type": "markdown",
   "metadata": {},
   "source": [
    "## 8 - Machine Learning"
   ]
  },
  {
   "cell_type": "markdown",
   "metadata": {},
   "source": [
    "---"
   ]
  },
  {
   "cell_type": "markdown",
   "metadata": {},
   "source": [
    "### 8.1 - MODELO XGBOOST CLASIFICACION BINARIA ( WO | ACCURACY 83,80% | +FN / -FP )\n"
   ]
  },
  {
   "cell_type": "code",
   "execution_count": 240,
   "metadata": {},
   "outputs": [
    {
     "name": "stderr",
     "output_type": "stream",
     "text": [
      "c:\\Users\\manue\\anaconda3\\Lib\\site-packages\\xgboost\\core.py:158: UserWarning: [19:39:00] WARNING: C:\\buildkite-agent\\builds\\buildkite-windows-cpu-autoscaling-group-i-0c55ff5f71b100e98-1\\xgboost\\xgboost-ci-windows\\src\\learner.cc:740: \n",
      "Parameters: { \"use_label_encoder\" } are not used.\n",
      "\n",
      "  warnings.warn(smsg, UserWarning)\n"
     ]
    },
    {
     "data": {
      "image/png": "[encoded data removed]",
      "text/plain": [
       "<Figure size 1600x1600 with 5 Axes>"
      ]
     },
     "metadata": {},
     "output_type": "display_data"
    }
   ],
   "source": [
    "'''# Crear el modelo de XGBoost\n",
    "xgb_clasificador = XGBClassifier(\n",
    "    objective='binary:logistic',\n",
    "    eval_metric='logloss',\n",
    "    use_label_encoder=False,\n",
    "    random_state=42,\n",
    ")\n",
    "\n",
    "# Entrenar el modelo con los datos de entrenamiento\n",
    "xgb_clasificador.fit(X_train_with_outliers_norm, y_train)\n",
    "\n",
    "# Predecir en el conjunto de prueba\n",
    "y_pred = xgb_clasificador.predict(X_test_with_outliers_norm)\n",
    "y_pred_proba = xgb_clasificador.predict_proba(X_test_with_outliers_norm)[:, 1]\n",
    "\n",
    "# Calcular resultados\n",
    "conf_matrix = confusion_matrix(y_test, y_pred)\n",
    "classification_rep = classification_report(y_test, y_pred, output_dict=True)\n",
    "accuracy = accuracy_score(y_test, y_pred)\n",
    "\n",
    "# Calcular la curva ROC y el valor AUC\n",
    "fpr, tpr, thresholds = roc_curve(y_test, y_pred_proba)\n",
    "roc_auc = auc(fpr, tpr)\n",
    "\n",
    "# Crear el DataFrame para el reporte de clasificación y redondear a 2 decimales\n",
    "classification_df = pd.DataFrame(classification_rep).transpose().round(2)\n",
    "\n",
    "# Crear el grafico\n",
    "fig, ax = plt.subplots(2, 2, figsize=(16, 16))\n",
    "\n",
    "# Matriz de confusion\n",
    "sns.heatmap(conf_matrix, annot=True, fmt=\"d\", cmap=\"Blues\", ax=ax[0, 0])\n",
    "ax[0, 0].set_title(\"Matriz de Confusión\", fontsize=14)\n",
    "ax[0, 0].set_xlabel(\"Predicción\", fontsize=12)\n",
    "ax[0, 0].set_ylabel(\"Valor Real\", fontsize=12)\n",
    "\n",
    "# Reporte de clasificacion\n",
    "ax[0, 1].axis(\"tight\")\n",
    "ax[0, 1].axis(\"off\")\n",
    "\n",
    "# Accuracy\n",
    "exact_text = f\"Exactitud del Modelo: {accuracy * 100:.2f}%\"\n",
    "ax[0, 1].text(\n",
    "    0.5, 1.2, exact_text, fontsize=16, color=\"blue\", ha=\"center\", transform=ax[0, 1].transAxes\n",
    ")\n",
    "\n",
    "# Reporte de clasificación\n",
    "table = ax[0, 1].table(\n",
    "    cellText=classification_df.values,\n",
    "    colLabels=classification_df.columns,\n",
    "    rowLabels=classification_df.index,\n",
    "    loc=\"center\",\n",
    "    cellLoc=\"center\",\n",
    "    colLoc=\"center\",\n",
    ")\n",
    "table.auto_set_font_size(False)\n",
    "table.set_fontsize(10)\n",
    "table.scale(1.2, 1.2)  # Escalar la tabla para mejor visualización\n",
    "\n",
    "# Curva ROC\n",
    "ax[1, 0].plot(fpr, tpr, color=\"darkorange\", lw=2, label=f\"ROC curve (area = {roc_auc:.2f})\")\n",
    "ax[1, 0].plot([0, 1], [0, 1], color=\"navy\", lw=2, linestyle=\"--\")\n",
    "ax[1, 0].set_xlim([0.0, 1.0])\n",
    "ax[1, 0].set_ylim([0.0, 1.05])\n",
    "ax[1, 0].set_title(\"Curva ROC\", fontsize=14)\n",
    "ax[1, 0].set_xlabel(\"Tasa de Falsos Positivos (FPR)\", fontsize=12)\n",
    "ax[1, 0].set_ylabel(\"Tasa de Verdaderos Positivos (TPR)\", fontsize=12)\n",
    "ax[1, 0].legend(loc=\"lower right\", fontsize=12)\n",
    "\n",
    "# Subplot 4 vacio\n",
    "ax[1, 1].axis(\"off\")\n",
    "\n",
    "# Ajustar diseno general\n",
    "plt.tight_layout()\n",
    "plt.show()'''"
   ]
  },
  {
   "cell_type": "markdown",
   "metadata": {},
   "source": [
    "#### 8.1.1 - IMPORTANCIA DE CARACTERISTICAS"
   ]
  },
  {
   "cell_type": "code",
   "execution_count": 241,
   "metadata": {},
   "outputs": [],
   "source": [
    "'''# Crear la matriz DMatrix de XGBoost\n",
    "dtrain = xgb.DMatrix(X_train_with_outliers_norm, label=y_train)\n",
    "dtest = xgb.DMatrix(X_test_with_outliers_norm, label=y_test)\n",
    "\n",
    "# Configurar hiperparámetros\n",
    "params = {\n",
    "    \"objective\": \"binary:logistic\",\n",
    "    \"eval_metric\": \"logloss\",\n",
    "    \"max_depth\": 6,\n",
    "    \"eta\": 0.1,\n",
    "    \"scale_pos_weight\": sum(y_train == 0) / sum(y_train == 1)\n",
    "}\n",
    "\n",
    "# Entrenar el modelo\n",
    "bst = xgb.train(params, dtrain, num_boost_round=100)'''"
   ]
  },
  {
   "cell_type": "code",
   "execution_count": 242,
   "metadata": {},
   "outputs": [
    {
     "data": {
      "image/png": "[encoded data removed]",
      "text/plain": [
       "<Figure size 640x480 with 1 Axes>"
      ]
     },
     "metadata": {},
     "output_type": "display_data"
    }
   ],
   "source": [
    "'''xgb.plot_importance(bst)\n",
    "plt.title(\"Importancia de las características\")\n",
    "plt.show()'''"
   ]
  },
  {
   "cell_type": "markdown",
   "metadata": {},
   "source": [
    "### 8.2 - MODELO XGBOOST CLASIFICACION BINARIA CON \"SMOTE\" ( ACCURACY 77,55% | -FN / +FP )\n"
   ]
  },
  {
   "cell_type": "code",
   "execution_count": 244,
   "metadata": {},
   "outputs": [
    {
     "name": "stderr",
     "output_type": "stream",
     "text": [
      "c:\\Users\\manue\\anaconda3\\Lib\\site-packages\\xgboost\\core.py:158: UserWarning: [17:44:35] WARNING: C:\\buildkite-agent\\builds\\buildkite-windows-cpu-autoscaling-group-i-0c55ff5f71b100e98-1\\xgboost\\xgboost-ci-windows\\src\\learner.cc:740: \n",
      "Parameters: { \"use_label_encoder\" } are not used.\n",
      "\n",
      "  warnings.warn(smsg, UserWarning)\n"
     ]
    },
    {
     "data": {
      "image/png": "[encoded data removed]",
      "text/plain": [
       "<Figure size 1600x1600 with 5 Axes>"
      ]
     },
     "metadata": {},
     "output_type": "display_data"
    }
   ],
   "source": [
    "'''# Aplicar SMOTE para balancear las clases en el conjunto de entrenamiento\n",
    "smote = SMOTE(random_state=42)\n",
    "X_train_with_outliers_norm_balanced, y_train_balanced = smote.fit_resample(X_train_with_outliers_norm, y_train)\n",
    "\n",
    "# Crear el modelo de XGBoost\n",
    "xgb_clasificador = XGBClassifier(\n",
    "    objective='binary:logistic',\n",
    "    eval_metric='logloss',\n",
    "    use_label_encoder=False,\n",
    "    random_state=42,\n",
    ")\n",
    "\n",
    "# Entrenar el modelo con los datos de entrenamiento balanceados\n",
    "xgb_clasificador.fit(X_train_with_outliers_norm_balanced, y_train_balanced)\n",
    "\n",
    "# Predecir en el conjunto de prueba\n",
    "y_pred_clf = xgb_clasificador.predict(X_test_with_outliers_norm)\n",
    "y_pred_proba_clf = xgb_clasificador.predict_proba(X_test_with_outliers_norm)[:, 1]\n",
    "\n",
    "# Calcular resultados\n",
    "conf_matrix = confusion_matrix(y_test, y_pred_clf)\n",
    "classification_rep = classification_report(y_test, y_pred_clf, output_dict=True)\n",
    "accuracy = accuracy_score(y_test, y_pred_clf)\n",
    "\n",
    "# Calcular la curva ROC y el valor AUC\n",
    "fpr, tpr, thresholds = roc_curve(y_test, y_pred_proba_clf)\n",
    "roc_auc = auc(fpr, tpr)\n",
    "\n",
    "# Crear el DataFrame para el reporte de clasificación y redondear a 2 decimales\n",
    "classification_df = pd.DataFrame(classification_rep).transpose().round(2)\n",
    "\n",
    "# Crear el grafico\n",
    "fig, ax = plt.subplots(2, 2, figsize=(16, 16))\n",
    "\n",
    "# Matriz de confusion\n",
    "sns.heatmap(conf_matrix, annot=True, fmt=\"d\", cmap=\"Blues\", ax=ax[0, 0])\n",
    "ax[0, 0].set_title(\"Matriz de Confusión\", fontsize=14)\n",
    "ax[0, 0].set_xlabel(\"Predicción\", fontsize=12)\n",
    "ax[0, 0].set_ylabel(\"Valor Real\", fontsize=12)\n",
    "\n",
    "# Reporte de clasificación \n",
    "ax[0, 1].axis(\"tight\")\n",
    "ax[0, 1].axis(\"off\")\n",
    "\n",
    "# Accuracy\n",
    "exact_text = f\"Exactitud del Modelo: {accuracy * 100:.2f}%\"\n",
    "ax[0, 1].text(\n",
    "    0.5, 1.2, exact_text, fontsize=16, color=\"blue\", ha=\"center\", transform=ax[0, 1].transAxes\n",
    ")\n",
    "\n",
    "# Reporte de clasificaciOn\n",
    "table = ax[0, 1].table(\n",
    "    cellText=classification_df.values,\n",
    "    colLabels=classification_df.columns,\n",
    "    rowLabels=classification_df.index,\n",
    "    loc=\"center\",\n",
    "    cellLoc=\"center\",\n",
    "    colLoc=\"center\",\n",
    ")\n",
    "table.auto_set_font_size(False)\n",
    "table.set_fontsize(10)\n",
    "table.scale(1.2, 1.2)  # Escalar la tabla para mejor visualización\n",
    "\n",
    "# Curva ROC\n",
    "ax[1, 0].plot(fpr, tpr, color=\"darkorange\", lw=2, label=f\"ROC curve (area = {roc_auc:.2f})\")\n",
    "ax[1, 0].plot([0, 1], [0, 1], color=\"navy\", lw=2, linestyle=\"--\")\n",
    "ax[1, 0].set_xlim([0.0, 1.0])\n",
    "ax[1, 0].set_ylim([0.0, 1.05])\n",
    "ax[1, 0].set_title(\"Curva ROC\", fontsize=14)\n",
    "ax[1, 0].set_xlabel(\"Tasa de Falsos Positivos (FPR)\", fontsize=12)\n",
    "ax[1, 0].set_ylabel(\"Tasa de Verdaderos Positivos (TPR)\", fontsize=12)\n",
    "ax[1, 0].legend(loc=\"lower right\", fontsize=12)\n",
    "\n",
    "# Subplot 4 vacío\n",
    "ax[1, 1].axis(\"off\")\n",
    "\n",
    "# Ajustar diseno general\n",
    "plt.tight_layout()\n",
    "plt.show()\n",
    "'''"
   ]
  },
  {
   "cell_type": "markdown",
   "metadata": {},
   "source": [
    "### 8.3 - MODELO XGBOOST CLASIFICACION BINARIA CON GRIDSEACRHCV (ACCURACY XX,XX% | -FN / +FP )"
   ]
  },
  {
   "cell_type": "code",
   "execution_count": null,
   "metadata": {},
   "outputs": [
    {
     "name": "stdout",
     "output_type": "stream",
     "text": [
      "Fitting 3 folds for each of 108 candidates, totalling 324 fits\n"
     ]
    },
    {
     "ename": "MemoryError",
     "evalue": "Unable to allocate 164. MiB for an array with shape (13, 1654255) and data type int64",
     "output_type": "error",
     "traceback": [
      "\u001b[1;31m---------------------------------------------------------------------------\u001b[0m",
      "\u001b[1;31m_RemoteTraceback\u001b[0m                          Traceback (most recent call last)",
      "\u001b[1;31m_RemoteTraceback\u001b[0m: \n\"\"\"\nTraceback (most recent call last):\n  File \"c:\\Users\\manue\\anaconda3\\Lib\\site-packages\\joblib\\externals\\loky\\process_executor.py\", line 463, in _process_worker\n    r = call_item()\n        ^^^^^^^^^^^\n  File \"c:\\Users\\manue\\anaconda3\\Lib\\site-packages\\joblib\\externals\\loky\\process_executor.py\", line 291, in __call__\n    return self.fn(*self.args, **self.kwargs)\n           ^^^^^^^^^^^^^^^^^^^^^^^^^^^^^^^^^^\n  File \"c:\\Users\\manue\\anaconda3\\Lib\\site-packages\\joblib\\parallel.py\", line 598, in __call__\n    return [func(*args, **kwargs)\n            ^^^^^^^^^^^^^^^^^^^^^\n  File \"c:\\Users\\manue\\anaconda3\\Lib\\site-packages\\sklearn\\utils\\parallel.py\", line 136, in __call__\n    return self.function(*args, **kwargs)\n           ^^^^^^^^^^^^^^^^^^^^^^^^^^^^^^\n  File \"c:\\Users\\manue\\anaconda3\\Lib\\site-packages\\sklearn\\model_selection\\_validation.py\", line 881, in _fit_and_score\n    X_test, y_test = _safe_split(estimator, X, y, test, train)\n                     ^^^^^^^^^^^^^^^^^^^^^^^^^^^^^^^^^^^^^^^^^\n  File \"c:\\Users\\manue\\anaconda3\\Lib\\site-packages\\sklearn\\utils\\metaestimators.py\", line 156, in _safe_split\n    X_subset = _safe_indexing(X, indices)\n               ^^^^^^^^^^^^^^^^^^^^^^^^^^\n  File \"c:\\Users\\manue\\anaconda3\\Lib\\site-packages\\sklearn\\utils\\_indexing.py\", line 263, in _safe_indexing\n    return _pandas_indexing(X, indices, indices_dtype, axis=axis)\n           ^^^^^^^^^^^^^^^^^^^^^^^^^^^^^^^^^^^^^^^^^^^^^^^^^^^^^^\n  File \"c:\\Users\\manue\\anaconda3\\Lib\\site-packages\\sklearn\\utils\\_indexing.py\", line 44, in _pandas_indexing\n    return X.take(key, axis=axis)\n           ^^^^^^^^^^^^^^^^^^^^^^\n  File \"c:\\Users\\manue\\anaconda3\\Lib\\site-packages\\pandas\\core\\generic.py\", line 4133, in take\n    new_data = self._mgr.take(\n               ^^^^^^^^^^^^^^^\n  File \"c:\\Users\\manue\\anaconda3\\Lib\\site-packages\\pandas\\core\\internals\\managers.py\", line 894, in take\n    return self.reindex_indexer(\n           ^^^^^^^^^^^^^^^^^^^^^\n  File \"c:\\Users\\manue\\anaconda3\\Lib\\site-packages\\pandas\\core\\internals\\managers.py\", line 688, in reindex_indexer\n    blk.take_nd(\n  File \"c:\\Users\\manue\\anaconda3\\Lib\\site-packages\\pandas\\core\\internals\\blocks.py\", line 1307, in take_nd\n    new_values = algos.take_nd(\n                 ^^^^^^^^^^^^^^\n  File \"c:\\Users\\manue\\anaconda3\\Lib\\site-packages\\pandas\\core\\array_algos\\take.py\", line 117, in take_nd\n    return _take_nd_ndarray(arr, indexer, axis, fill_value, allow_fill)\n           ^^^^^^^^^^^^^^^^^^^^^^^^^^^^^^^^^^^^^^^^^^^^^^^^^^^^^^^^^^^^\n  File \"c:\\Users\\manue\\anaconda3\\Lib\\site-packages\\pandas\\core\\array_algos\\take.py\", line 157, in _take_nd_ndarray\n    out = np.empty(out_shape, dtype=dtype)\n          ^^^^^^^^^^^^^^^^^^^^^^^^^^^^^^^^\nnumpy.core._exceptions._ArrayMemoryError: Unable to allocate 164. MiB for an array with shape (13, 1654255) and data type int64\n\"\"\"",
      "\nThe above exception was the direct cause of the following exception:\n",
      "\u001b[1;31mMemoryError\u001b[0m                               Traceback (most recent call last)",
      "Cell \u001b[1;32mIn[247], line 36\u001b[0m\n\u001b[0;32m     26\u001b[0m grid_search \u001b[38;5;241m=\u001b[39m GridSearchCV(\n\u001b[0;32m     27\u001b[0m     estimator\u001b[38;5;241m=\u001b[39mxgb_clasificador,\n\u001b[0;32m     28\u001b[0m     param_grid\u001b[38;5;241m=\u001b[39mparam_grid,\n\u001b[1;32m   (...)\u001b[0m\n\u001b[0;32m     32\u001b[0m     n_jobs\u001b[38;5;241m=\u001b[39m\u001b[38;5;241m-\u001b[39m\u001b[38;5;241m1\u001b[39m\n\u001b[0;32m     33\u001b[0m )\n\u001b[0;32m     35\u001b[0m \u001b[38;5;66;03m# Entrenar el GridSearchCV con los datos de entrenamiento\u001b[39;00m\n\u001b[1;32m---> 36\u001b[0m \u001b[43mgrid_search\u001b[49m\u001b[38;5;241;43m.\u001b[39;49m\u001b[43mfit\u001b[49m\u001b[43m(\u001b[49m\u001b[43mX_train_clf\u001b[49m\u001b[43m,\u001b[49m\u001b[43m \u001b[49m\u001b[43my_train_clf\u001b[49m\u001b[43m)\u001b[49m\n\u001b[0;32m     38\u001b[0m \u001b[38;5;66;03m# Obtener el mejor modelo y los mejores hiperparámetros\u001b[39;00m\n\u001b[0;32m     39\u001b[0m best_model \u001b[38;5;241m=\u001b[39m grid_search\u001b[38;5;241m.\u001b[39mbest_estimator_\n",
      "File \u001b[1;32mc:\\Users\\manue\\anaconda3\\Lib\\site-packages\\sklearn\\base.py:1473\u001b[0m, in \u001b[0;36m_fit_context.<locals>.decorator.<locals>.wrapper\u001b[1;34m(estimator, *args, **kwargs)\u001b[0m\n\u001b[0;32m   1466\u001b[0m     estimator\u001b[38;5;241m.\u001b[39m_validate_params()\n\u001b[0;32m   1468\u001b[0m \u001b[38;5;28;01mwith\u001b[39;00m config_context(\n\u001b[0;32m   1469\u001b[0m     skip_parameter_validation\u001b[38;5;241m=\u001b[39m(\n\u001b[0;32m   1470\u001b[0m         prefer_skip_nested_validation \u001b[38;5;129;01mor\u001b[39;00m global_skip_validation\n\u001b[0;32m   1471\u001b[0m     )\n\u001b[0;32m   1472\u001b[0m ):\n\u001b[1;32m-> 1473\u001b[0m     \u001b[38;5;28;01mreturn\u001b[39;00m \u001b[43mfit_method\u001b[49m\u001b[43m(\u001b[49m\u001b[43mestimator\u001b[49m\u001b[43m,\u001b[49m\u001b[43m \u001b[49m\u001b[38;5;241;43m*\u001b[39;49m\u001b[43margs\u001b[49m\u001b[43m,\u001b[49m\u001b[43m \u001b[49m\u001b[38;5;241;43m*\u001b[39;49m\u001b[38;5;241;43m*\u001b[39;49m\u001b[43mkwargs\u001b[49m\u001b[43m)\u001b[49m\n",
      "File \u001b[1;32mc:\\Users\\manue\\anaconda3\\Lib\\site-packages\\sklearn\\model_selection\\_search.py:1018\u001b[0m, in \u001b[0;36mBaseSearchCV.fit\u001b[1;34m(self, X, y, **params)\u001b[0m\n\u001b[0;32m   1012\u001b[0m     results \u001b[38;5;241m=\u001b[39m \u001b[38;5;28mself\u001b[39m\u001b[38;5;241m.\u001b[39m_format_results(\n\u001b[0;32m   1013\u001b[0m         all_candidate_params, n_splits, all_out, all_more_results\n\u001b[0;32m   1014\u001b[0m     )\n\u001b[0;32m   1016\u001b[0m     \u001b[38;5;28;01mreturn\u001b[39;00m results\n\u001b[1;32m-> 1018\u001b[0m \u001b[38;5;28;43mself\u001b[39;49m\u001b[38;5;241;43m.\u001b[39;49m\u001b[43m_run_search\u001b[49m\u001b[43m(\u001b[49m\u001b[43mevaluate_candidates\u001b[49m\u001b[43m)\u001b[49m\n\u001b[0;32m   1020\u001b[0m \u001b[38;5;66;03m# multimetric is determined here because in the case of a callable\u001b[39;00m\n\u001b[0;32m   1021\u001b[0m \u001b[38;5;66;03m# self.scoring the return type is only known after calling\u001b[39;00m\n\u001b[0;32m   1022\u001b[0m first_test_score \u001b[38;5;241m=\u001b[39m all_out[\u001b[38;5;241m0\u001b[39m][\u001b[38;5;124m\"\u001b[39m\u001b[38;5;124mtest_scores\u001b[39m\u001b[38;5;124m\"\u001b[39m]\n",
      "File \u001b[1;32mc:\\Users\\manue\\anaconda3\\Lib\\site-packages\\sklearn\\model_selection\\_search.py:1572\u001b[0m, in \u001b[0;36mGridSearchCV._run_search\u001b[1;34m(self, evaluate_candidates)\u001b[0m\n\u001b[0;32m   1570\u001b[0m \u001b[38;5;28;01mdef\u001b[39;00m \u001b[38;5;21m_run_search\u001b[39m(\u001b[38;5;28mself\u001b[39m, evaluate_candidates):\n\u001b[0;32m   1571\u001b[0m \u001b[38;5;250m    \u001b[39m\u001b[38;5;124;03m\"\"\"Search all candidates in param_grid\"\"\"\u001b[39;00m\n\u001b[1;32m-> 1572\u001b[0m     \u001b[43mevaluate_candidates\u001b[49m\u001b[43m(\u001b[49m\u001b[43mParameterGrid\u001b[49m\u001b[43m(\u001b[49m\u001b[38;5;28;43mself\u001b[39;49m\u001b[38;5;241;43m.\u001b[39;49m\u001b[43mparam_grid\u001b[49m\u001b[43m)\u001b[49m\u001b[43m)\u001b[49m\n",
      "File \u001b[1;32mc:\\Users\\manue\\anaconda3\\Lib\\site-packages\\sklearn\\model_selection\\_search.py:964\u001b[0m, in \u001b[0;36mBaseSearchCV.fit.<locals>.evaluate_candidates\u001b[1;34m(candidate_params, cv, more_results)\u001b[0m\n\u001b[0;32m    956\u001b[0m \u001b[38;5;28;01mif\u001b[39;00m \u001b[38;5;28mself\u001b[39m\u001b[38;5;241m.\u001b[39mverbose \u001b[38;5;241m>\u001b[39m \u001b[38;5;241m0\u001b[39m:\n\u001b[0;32m    957\u001b[0m     \u001b[38;5;28mprint\u001b[39m(\n\u001b[0;32m    958\u001b[0m         \u001b[38;5;124m\"\u001b[39m\u001b[38;5;124mFitting \u001b[39m\u001b[38;5;132;01m{0}\u001b[39;00m\u001b[38;5;124m folds for each of \u001b[39m\u001b[38;5;132;01m{1}\u001b[39;00m\u001b[38;5;124m candidates,\u001b[39m\u001b[38;5;124m\"\u001b[39m\n\u001b[0;32m    959\u001b[0m         \u001b[38;5;124m\"\u001b[39m\u001b[38;5;124m totalling \u001b[39m\u001b[38;5;132;01m{2}\u001b[39;00m\u001b[38;5;124m fits\u001b[39m\u001b[38;5;124m\"\u001b[39m\u001b[38;5;241m.\u001b[39mformat(\n\u001b[0;32m    960\u001b[0m             n_splits, n_candidates, n_candidates \u001b[38;5;241m*\u001b[39m n_splits\n\u001b[0;32m    961\u001b[0m         )\n\u001b[0;32m    962\u001b[0m     )\n\u001b[1;32m--> 964\u001b[0m out \u001b[38;5;241m=\u001b[39m \u001b[43mparallel\u001b[49m\u001b[43m(\u001b[49m\n\u001b[0;32m    965\u001b[0m \u001b[43m    \u001b[49m\u001b[43mdelayed\u001b[49m\u001b[43m(\u001b[49m\u001b[43m_fit_and_score\u001b[49m\u001b[43m)\u001b[49m\u001b[43m(\u001b[49m\n\u001b[0;32m    966\u001b[0m \u001b[43m        \u001b[49m\u001b[43mclone\u001b[49m\u001b[43m(\u001b[49m\u001b[43mbase_estimator\u001b[49m\u001b[43m)\u001b[49m\u001b[43m,\u001b[49m\n\u001b[0;32m    967\u001b[0m \u001b[43m        \u001b[49m\u001b[43mX\u001b[49m\u001b[43m,\u001b[49m\n\u001b[0;32m    968\u001b[0m \u001b[43m        \u001b[49m\u001b[43my\u001b[49m\u001b[43m,\u001b[49m\n\u001b[0;32m    969\u001b[0m \u001b[43m        \u001b[49m\u001b[43mtrain\u001b[49m\u001b[38;5;241;43m=\u001b[39;49m\u001b[43mtrain\u001b[49m\u001b[43m,\u001b[49m\n\u001b[0;32m    970\u001b[0m \u001b[43m        \u001b[49m\u001b[43mtest\u001b[49m\u001b[38;5;241;43m=\u001b[39;49m\u001b[43mtest\u001b[49m\u001b[43m,\u001b[49m\n\u001b[0;32m    971\u001b[0m \u001b[43m        \u001b[49m\u001b[43mparameters\u001b[49m\u001b[38;5;241;43m=\u001b[39;49m\u001b[43mparameters\u001b[49m\u001b[43m,\u001b[49m\n\u001b[0;32m    972\u001b[0m \u001b[43m        \u001b[49m\u001b[43msplit_progress\u001b[49m\u001b[38;5;241;43m=\u001b[39;49m\u001b[43m(\u001b[49m\u001b[43msplit_idx\u001b[49m\u001b[43m,\u001b[49m\u001b[43m \u001b[49m\u001b[43mn_splits\u001b[49m\u001b[43m)\u001b[49m\u001b[43m,\u001b[49m\n\u001b[0;32m    973\u001b[0m \u001b[43m        \u001b[49m\u001b[43mcandidate_progress\u001b[49m\u001b[38;5;241;43m=\u001b[39;49m\u001b[43m(\u001b[49m\u001b[43mcand_idx\u001b[49m\u001b[43m,\u001b[49m\u001b[43m \u001b[49m\u001b[43mn_candidates\u001b[49m\u001b[43m)\u001b[49m\u001b[43m,\u001b[49m\n\u001b[0;32m    974\u001b[0m \u001b[43m        \u001b[49m\u001b[38;5;241;43m*\u001b[39;49m\u001b[38;5;241;43m*\u001b[39;49m\u001b[43mfit_and_score_kwargs\u001b[49m\u001b[43m,\u001b[49m\n\u001b[0;32m    975\u001b[0m \u001b[43m    \u001b[49m\u001b[43m)\u001b[49m\n\u001b[0;32m    976\u001b[0m \u001b[43m    \u001b[49m\u001b[38;5;28;43;01mfor\u001b[39;49;00m\u001b[43m \u001b[49m\u001b[43m(\u001b[49m\u001b[43mcand_idx\u001b[49m\u001b[43m,\u001b[49m\u001b[43m \u001b[49m\u001b[43mparameters\u001b[49m\u001b[43m)\u001b[49m\u001b[43m,\u001b[49m\u001b[43m \u001b[49m\u001b[43m(\u001b[49m\u001b[43msplit_idx\u001b[49m\u001b[43m,\u001b[49m\u001b[43m \u001b[49m\u001b[43m(\u001b[49m\u001b[43mtrain\u001b[49m\u001b[43m,\u001b[49m\u001b[43m \u001b[49m\u001b[43mtest\u001b[49m\u001b[43m)\u001b[49m\u001b[43m)\u001b[49m\u001b[43m \u001b[49m\u001b[38;5;129;43;01min\u001b[39;49;00m\u001b[43m \u001b[49m\u001b[43mproduct\u001b[49m\u001b[43m(\u001b[49m\n\u001b[0;32m    977\u001b[0m \u001b[43m        \u001b[49m\u001b[38;5;28;43menumerate\u001b[39;49m\u001b[43m(\u001b[49m\u001b[43mcandidate_params\u001b[49m\u001b[43m)\u001b[49m\u001b[43m,\u001b[49m\n\u001b[0;32m    978\u001b[0m \u001b[43m        \u001b[49m\u001b[38;5;28;43menumerate\u001b[39;49m\u001b[43m(\u001b[49m\u001b[43mcv\u001b[49m\u001b[38;5;241;43m.\u001b[39;49m\u001b[43msplit\u001b[49m\u001b[43m(\u001b[49m\u001b[43mX\u001b[49m\u001b[43m,\u001b[49m\u001b[43m \u001b[49m\u001b[43my\u001b[49m\u001b[43m,\u001b[49m\u001b[43m \u001b[49m\u001b[38;5;241;43m*\u001b[39;49m\u001b[38;5;241;43m*\u001b[39;49m\u001b[43mrouted_params\u001b[49m\u001b[38;5;241;43m.\u001b[39;49m\u001b[43msplitter\u001b[49m\u001b[38;5;241;43m.\u001b[39;49m\u001b[43msplit\u001b[49m\u001b[43m)\u001b[49m\u001b[43m)\u001b[49m\u001b[43m,\u001b[49m\n\u001b[0;32m    979\u001b[0m \u001b[43m    \u001b[49m\u001b[43m)\u001b[49m\n\u001b[0;32m    980\u001b[0m \u001b[43m\u001b[49m\u001b[43m)\u001b[49m\n\u001b[0;32m    982\u001b[0m \u001b[38;5;28;01mif\u001b[39;00m \u001b[38;5;28mlen\u001b[39m(out) \u001b[38;5;241m<\u001b[39m \u001b[38;5;241m1\u001b[39m:\n\u001b[0;32m    983\u001b[0m     \u001b[38;5;28;01mraise\u001b[39;00m \u001b[38;5;167;01mValueError\u001b[39;00m(\n\u001b[0;32m    984\u001b[0m         \u001b[38;5;124m\"\u001b[39m\u001b[38;5;124mNo fits were performed. \u001b[39m\u001b[38;5;124m\"\u001b[39m\n\u001b[0;32m    985\u001b[0m         \u001b[38;5;124m\"\u001b[39m\u001b[38;5;124mWas the CV iterator empty? \u001b[39m\u001b[38;5;124m\"\u001b[39m\n\u001b[0;32m    986\u001b[0m         \u001b[38;5;124m\"\u001b[39m\u001b[38;5;124mWere there no candidates?\u001b[39m\u001b[38;5;124m\"\u001b[39m\n\u001b[0;32m    987\u001b[0m     )\n",
      "File \u001b[1;32mc:\\Users\\manue\\anaconda3\\Lib\\site-packages\\sklearn\\utils\\parallel.py:74\u001b[0m, in \u001b[0;36mParallel.__call__\u001b[1;34m(self, iterable)\u001b[0m\n\u001b[0;32m     69\u001b[0m config \u001b[38;5;241m=\u001b[39m get_config()\n\u001b[0;32m     70\u001b[0m iterable_with_config \u001b[38;5;241m=\u001b[39m (\n\u001b[0;32m     71\u001b[0m     (_with_config(delayed_func, config), args, kwargs)\n\u001b[0;32m     72\u001b[0m     \u001b[38;5;28;01mfor\u001b[39;00m delayed_func, args, kwargs \u001b[38;5;129;01min\u001b[39;00m iterable\n\u001b[0;32m     73\u001b[0m )\n\u001b[1;32m---> 74\u001b[0m \u001b[38;5;28;01mreturn\u001b[39;00m \u001b[38;5;28;43msuper\u001b[39;49m\u001b[43m(\u001b[49m\u001b[43m)\u001b[49m\u001b[38;5;241;43m.\u001b[39;49m\u001b[38;5;21;43m__call__\u001b[39;49m\u001b[43m(\u001b[49m\u001b[43miterable_with_config\u001b[49m\u001b[43m)\u001b[49m\n",
      "File \u001b[1;32mc:\\Users\\manue\\anaconda3\\Lib\\site-packages\\joblib\\parallel.py:2007\u001b[0m, in \u001b[0;36mParallel.__call__\u001b[1;34m(self, iterable)\u001b[0m\n\u001b[0;32m   2001\u001b[0m \u001b[38;5;66;03m# The first item from the output is blank, but it makes the interpreter\u001b[39;00m\n\u001b[0;32m   2002\u001b[0m \u001b[38;5;66;03m# progress until it enters the Try/Except block of the generator and\u001b[39;00m\n\u001b[0;32m   2003\u001b[0m \u001b[38;5;66;03m# reaches the first `yield` statement. This starts the asynchronous\u001b[39;00m\n\u001b[0;32m   2004\u001b[0m \u001b[38;5;66;03m# dispatch of the tasks to the workers.\u001b[39;00m\n\u001b[0;32m   2005\u001b[0m \u001b[38;5;28mnext\u001b[39m(output)\n\u001b[1;32m-> 2007\u001b[0m \u001b[38;5;28;01mreturn\u001b[39;00m output \u001b[38;5;28;01mif\u001b[39;00m \u001b[38;5;28mself\u001b[39m\u001b[38;5;241m.\u001b[39mreturn_generator \u001b[38;5;28;01melse\u001b[39;00m \u001b[38;5;28;43mlist\u001b[39;49m\u001b[43m(\u001b[49m\u001b[43moutput\u001b[49m\u001b[43m)\u001b[49m\n",
      "File \u001b[1;32mc:\\Users\\manue\\anaconda3\\Lib\\site-packages\\joblib\\parallel.py:1650\u001b[0m, in \u001b[0;36mParallel._get_outputs\u001b[1;34m(self, iterator, pre_dispatch)\u001b[0m\n\u001b[0;32m   1647\u001b[0m     \u001b[38;5;28;01myield\u001b[39;00m\n\u001b[0;32m   1649\u001b[0m     \u001b[38;5;28;01mwith\u001b[39;00m \u001b[38;5;28mself\u001b[39m\u001b[38;5;241m.\u001b[39m_backend\u001b[38;5;241m.\u001b[39mretrieval_context():\n\u001b[1;32m-> 1650\u001b[0m         \u001b[38;5;28;01myield from\u001b[39;00m \u001b[38;5;28mself\u001b[39m\u001b[38;5;241m.\u001b[39m_retrieve()\n\u001b[0;32m   1652\u001b[0m \u001b[38;5;28;01mexcept\u001b[39;00m \u001b[38;5;167;01mGeneratorExit\u001b[39;00m:\n\u001b[0;32m   1653\u001b[0m     \u001b[38;5;66;03m# The generator has been garbage collected before being fully\u001b[39;00m\n\u001b[0;32m   1654\u001b[0m     \u001b[38;5;66;03m# consumed. This aborts the remaining tasks if possible and warn\u001b[39;00m\n\u001b[0;32m   1655\u001b[0m     \u001b[38;5;66;03m# the user if necessary.\u001b[39;00m\n\u001b[0;32m   1656\u001b[0m     \u001b[38;5;28mself\u001b[39m\u001b[38;5;241m.\u001b[39m_exception \u001b[38;5;241m=\u001b[39m \u001b[38;5;28;01mTrue\u001b[39;00m\n",
      "File \u001b[1;32mc:\\Users\\manue\\anaconda3\\Lib\\site-packages\\joblib\\parallel.py:1754\u001b[0m, in \u001b[0;36mParallel._retrieve\u001b[1;34m(self)\u001b[0m\n\u001b[0;32m   1747\u001b[0m \u001b[38;5;28;01mwhile\u001b[39;00m \u001b[38;5;28mself\u001b[39m\u001b[38;5;241m.\u001b[39m_wait_retrieval():\n\u001b[0;32m   1748\u001b[0m \n\u001b[0;32m   1749\u001b[0m     \u001b[38;5;66;03m# If the callback thread of a worker has signaled that its task\u001b[39;00m\n\u001b[0;32m   1750\u001b[0m     \u001b[38;5;66;03m# triggered an exception, or if the retrieval loop has raised an\u001b[39;00m\n\u001b[0;32m   1751\u001b[0m     \u001b[38;5;66;03m# exception (e.g. `GeneratorExit`), exit the loop and surface the\u001b[39;00m\n\u001b[0;32m   1752\u001b[0m     \u001b[38;5;66;03m# worker traceback.\u001b[39;00m\n\u001b[0;32m   1753\u001b[0m     \u001b[38;5;28;01mif\u001b[39;00m \u001b[38;5;28mself\u001b[39m\u001b[38;5;241m.\u001b[39m_aborting:\n\u001b[1;32m-> 1754\u001b[0m         \u001b[38;5;28;43mself\u001b[39;49m\u001b[38;5;241;43m.\u001b[39;49m\u001b[43m_raise_error_fast\u001b[49m\u001b[43m(\u001b[49m\u001b[43m)\u001b[49m\n\u001b[0;32m   1755\u001b[0m         \u001b[38;5;28;01mbreak\u001b[39;00m\n\u001b[0;32m   1757\u001b[0m     \u001b[38;5;66;03m# If the next job is not ready for retrieval yet, we just wait for\u001b[39;00m\n\u001b[0;32m   1758\u001b[0m     \u001b[38;5;66;03m# async callbacks to progress.\u001b[39;00m\n",
      "File \u001b[1;32mc:\\Users\\manue\\anaconda3\\Lib\\site-packages\\joblib\\parallel.py:1789\u001b[0m, in \u001b[0;36mParallel._raise_error_fast\u001b[1;34m(self)\u001b[0m\n\u001b[0;32m   1785\u001b[0m \u001b[38;5;66;03m# If this error job exists, immediately raise the error by\u001b[39;00m\n\u001b[0;32m   1786\u001b[0m \u001b[38;5;66;03m# calling get_result. This job might not exists if abort has been\u001b[39;00m\n\u001b[0;32m   1787\u001b[0m \u001b[38;5;66;03m# called directly or if the generator is gc'ed.\u001b[39;00m\n\u001b[0;32m   1788\u001b[0m \u001b[38;5;28;01mif\u001b[39;00m error_job \u001b[38;5;129;01mis\u001b[39;00m \u001b[38;5;129;01mnot\u001b[39;00m \u001b[38;5;28;01mNone\u001b[39;00m:\n\u001b[1;32m-> 1789\u001b[0m     \u001b[43merror_job\u001b[49m\u001b[38;5;241;43m.\u001b[39;49m\u001b[43mget_result\u001b[49m\u001b[43m(\u001b[49m\u001b[38;5;28;43mself\u001b[39;49m\u001b[38;5;241;43m.\u001b[39;49m\u001b[43mtimeout\u001b[49m\u001b[43m)\u001b[49m\n",
      "File \u001b[1;32mc:\\Users\\manue\\anaconda3\\Lib\\site-packages\\joblib\\parallel.py:745\u001b[0m, in \u001b[0;36mBatchCompletionCallBack.get_result\u001b[1;34m(self, timeout)\u001b[0m\n\u001b[0;32m    739\u001b[0m backend \u001b[38;5;241m=\u001b[39m \u001b[38;5;28mself\u001b[39m\u001b[38;5;241m.\u001b[39mparallel\u001b[38;5;241m.\u001b[39m_backend\n\u001b[0;32m    741\u001b[0m \u001b[38;5;28;01mif\u001b[39;00m backend\u001b[38;5;241m.\u001b[39msupports_retrieve_callback:\n\u001b[0;32m    742\u001b[0m     \u001b[38;5;66;03m# We assume that the result has already been retrieved by the\u001b[39;00m\n\u001b[0;32m    743\u001b[0m     \u001b[38;5;66;03m# callback thread, and is stored internally. It's just waiting to\u001b[39;00m\n\u001b[0;32m    744\u001b[0m     \u001b[38;5;66;03m# be returned.\u001b[39;00m\n\u001b[1;32m--> 745\u001b[0m     \u001b[38;5;28;01mreturn\u001b[39;00m \u001b[38;5;28;43mself\u001b[39;49m\u001b[38;5;241;43m.\u001b[39;49m\u001b[43m_return_or_raise\u001b[49m\u001b[43m(\u001b[49m\u001b[43m)\u001b[49m\n\u001b[0;32m    747\u001b[0m \u001b[38;5;66;03m# For other backends, the main thread needs to run the retrieval step.\u001b[39;00m\n\u001b[0;32m    748\u001b[0m \u001b[38;5;28;01mtry\u001b[39;00m:\n",
      "File \u001b[1;32mc:\\Users\\manue\\anaconda3\\Lib\\site-packages\\joblib\\parallel.py:763\u001b[0m, in \u001b[0;36mBatchCompletionCallBack._return_or_raise\u001b[1;34m(self)\u001b[0m\n\u001b[0;32m    761\u001b[0m \u001b[38;5;28;01mtry\u001b[39;00m:\n\u001b[0;32m    762\u001b[0m     \u001b[38;5;28;01mif\u001b[39;00m \u001b[38;5;28mself\u001b[39m\u001b[38;5;241m.\u001b[39mstatus \u001b[38;5;241m==\u001b[39m TASK_ERROR:\n\u001b[1;32m--> 763\u001b[0m         \u001b[38;5;28;01mraise\u001b[39;00m \u001b[38;5;28mself\u001b[39m\u001b[38;5;241m.\u001b[39m_result\n\u001b[0;32m    764\u001b[0m     \u001b[38;5;28;01mreturn\u001b[39;00m \u001b[38;5;28mself\u001b[39m\u001b[38;5;241m.\u001b[39m_result\n\u001b[0;32m    765\u001b[0m \u001b[38;5;28;01mfinally\u001b[39;00m:\n",
      "\u001b[1;31mMemoryError\u001b[0m: Unable to allocate 164. MiB for an array with shape (13, 1654255) and data type int64"
     ]
    }
   ],
   "source": [
    "'''\n",
    "# Definir el modelo base\n",
    "xgb_clasificador = XGBClassifier(\n",
    "    objective='binary:logistic',\n",
    "    eval_metric='logloss',\n",
    "    use_label_encoder=False,\n",
    "    random_state=42,\n",
    ")\n",
    "\n",
    "# Hiperparametros\n",
    "param_grid = {\n",
    "    'n_estimators': [100, 200],\n",
    "    'learning_rate': [0.01, 0.1, 0.2],\n",
    "    'max_depth': [3, 5, 7],\n",
    "    'subsample': [0.8, 1.0],\n",
    "    'colsample_bytree': [0.8, 1.0],\n",
    "}\n",
    "\n",
    "# Configurar el GridSearchCV\n",
    "grid_search = GridSearchCV(\n",
    "    estimator=xgb_clasificador,\n",
    "    param_grid=param_grid,\n",
    "    scoring='roc_auc',\n",
    "    cv=3,\n",
    "    verbose=1,\n",
    "    n_jobs=-1\n",
    ")\n",
    "\n",
    "# Entrenar el GridSearchCV con los datos de entrenamiento\n",
    "grid_search.fit(X_train_with_outliers_norm, y_train)\n",
    "\n",
    "# Obtener el mejor modelo y los mejores hiperparametros\n",
    "best_model = grid_search.best_estimator_\n",
    "best_params = grid_search.best_params_\n",
    "print(f\"Mejores hiperparámetros: {best_params}\")\n",
    "\n",
    "# Predecir en el conjunto de prueba usando el mejor modelo\n",
    "y_pred_clf = best_model.predict(X_test_with_outliers_norm)\n",
    "y_pred_proba_clf = best_model.predict_proba(X_test_with_outliers_norm)[:, 1]\n",
    "\n",
    "# Calcular resultados\n",
    "conf_matrix = confusion_matrix(y_test, y_pred_clf)\n",
    "classification_rep = classification_report(y_test, y_pred_clf, output_dict=True)\n",
    "accuracy = accuracy_score(y_test, y_pred_clf)\n",
    "\n",
    "# Calcular la curva ROC y el valor AUC\n",
    "fpr, tpr, thresholds = roc_curve(y_test, y_pred_proba_clf)\n",
    "roc_auc = auc(fpr, tpr)\n",
    "\n",
    "# Crear el DataFrame para el reporte de clasificación y redondear a 2 decimales\n",
    "classification_df = pd.DataFrame(classification_rep).transpose().round(2)\n",
    "\n",
    "# Crear el grafico\n",
    "fig, ax = plt.subplots(2, 2, figsize=(16, 16))\n",
    "\n",
    "# Matriz de confusion\n",
    "sns.heatmap(conf_matrix, annot=True, fmt=\"d\", cmap=\"Blues\", ax=ax[0, 0])\n",
    "ax[0, 0].set_title(\"Matriz de Confusión\", fontsize=14)\n",
    "ax[0, 0].set_xlabel(\"Predicción\", fontsize=12)\n",
    "ax[0, 0].set_ylabel(\"Valor Real\", fontsize=12)\n",
    "\n",
    "# Reporte de clasificacion\n",
    "ax[0, 1].axis(\"tight\")\n",
    "ax[0, 1].axis(\"off\")\n",
    "\n",
    "# Accuracy\n",
    "exact_text = f\"Exactitud del Modelo: {accuracy * 100:.2f}%\"\n",
    "ax[0, 1].text(\n",
    "    0.5, 1.2, exact_text, fontsize=16, color=\"blue\", ha=\"center\", transform=ax[0, 1].transAxes\n",
    ")\n",
    "\n",
    "# Reporte de clasificación\n",
    "table = ax[0, 1].table(\n",
    "    cellText=classification_df.values,\n",
    "    colLabels=classification_df.columns,\n",
    "    rowLabels=classification_df.index,\n",
    "    loc=\"center\",\n",
    "    cellLoc=\"center\",\n",
    "    colLoc=\"center\",\n",
    ")\n",
    "table.auto_set_font_size(False)\n",
    "table.set_fontsize(10)\n",
    "table.scale(1.2, 1.2)  # Escalar la tabla para mejor visualización\n",
    "\n",
    "# Curva ROC\n",
    "ax[1, 0].plot(fpr, tpr, color=\"darkorange\", lw=2, label=f\"ROC curve (area = {roc_auc:.2f})\")\n",
    "ax[1, 0].plot([0, 1], [0, 1], color=\"navy\", lw=2, linestyle=\"--\")\n",
    "ax[1, 0].set_xlim([0.0, 1.0])\n",
    "ax[1, 0].set_ylim([0.0, 1.05])\n",
    "ax[1, 0].set_title(\"Curva ROC\", fontsize=14)\n",
    "ax[1, 0].set_xlabel(\"Tasa de Falsos Positivos (FPR)\", fontsize=12)\n",
    "ax[1, 0].set_ylabel(\"Tasa de Verdaderos Positivos (TPR)\", fontsize=12)\n",
    "ax[1, 0].legend(loc=\"lower right\", fontsize=12)\n",
    "\n",
    "# Subplot 4 vacio\n",
    "ax[1, 1].axis(\"off\")\n",
    "\n",
    "# Ajustar diseno general\n",
    "plt.tight_layout()\n",
    "plt.show()\n",
    "'''"
   ]
  },
  {
   "cell_type": "markdown",
   "metadata": {},
   "source": [
    "### 8.4 - MODELO XGBOOST CLASIFICACION BINARIA CON RANDOMSEARCHCV (ACCURACY 84,48% | -FN / +FP)"
   ]
  },
  {
   "cell_type": "code",
   "execution_count": 97,
   "metadata": {},
   "outputs": [
    {
     "name": "stdout",
     "output_type": "stream",
     "text": [
      "Fitting 3 folds for each of 10 candidates, totalling 30 fits\n"
     ]
    },
    {
     "name": "stderr",
     "output_type": "stream",
     "text": [
      "c:\\Users\\manue\\anaconda3\\Lib\\site-packages\\xgboost\\core.py:158: UserWarning: [21:32:17] WARNING: C:\\buildkite-agent\\builds\\buildkite-windows-cpu-autoscaling-group-i-0c55ff5f71b100e98-1\\xgboost\\xgboost-ci-windows\\src\\learner.cc:740: \n",
      "Parameters: { \"use_label_encoder\" } are not used.\n",
      "\n",
      "  warnings.warn(smsg, UserWarning)\n"
     ]
    },
    {
     "name": "stdout",
     "output_type": "stream",
     "text": [
      "Mejores hiperparámetros: {'subsample': 1.0, 'n_estimators': 200, 'max_depth': 10, 'learning_rate': 0.2, 'gamma': 0.1, 'colsample_bytree': 0.8}\n"
     ]
    },
    {
     "data": {
      "image/png": "[encoded data removed]",
      "text/plain": [
       "<Figure size 1600x1600 with 5 Axes>"
      ]
     },
     "metadata": {},
     "output_type": "display_data"
    }
   ],
   "source": [
    "# Definir el modelo base\n",
    "xgb_clasificador = XGBClassifier(\n",
    "    objective='binary:logistic',\n",
    "    eval_metric='logloss',\n",
    "    use_label_encoder=False,\n",
    "    random_state=42,\n",
    ")\n",
    "\n",
    "# Hiperparametros\n",
    "param_dist = {\n",
    "    'n_estimators': [100, 200, 300],\n",
    "    'learning_rate': [0.01, 0.05, 0.1, 0.2],\n",
    "    'max_depth': [3, 5, 7, 10],\n",
    "    'subsample': [0.6, 0.8, 1.0],\n",
    "    'colsample_bytree': [0.6, 0.8, 1.0],\n",
    "    'gamma': [0, 0.1, 0.2, 0.3],\n",
    "}\n",
    "\n",
    "# Configurar el RandomizedSearchCV\n",
    "random_search = RandomizedSearchCV(\n",
    "    estimator=xgb_clasificador,\n",
    "    param_distributions=param_dist,\n",
    "    scoring='roc_auc',\n",
    "    n_iter=10,  # Número de combinaciones a probar\n",
    "    cv=3,\n",
    "    verbose=1,\n",
    "    random_state=42,\n",
    "    n_jobs=-1\n",
    ")\n",
    "\n",
    "# Entrenar el RandomizedSearchCV con los datos de entrenamiento\n",
    "random_search.fit(X_train_with_outliers_norm, y_train)\n",
    "\n",
    "# Obtener el mejor modelo y los mejores hiperparámetros\n",
    "best_model = random_search.best_estimator_\n",
    "best_params = random_search.best_params_\n",
    "print(f\"Mejores hiperparámetros: {best_params}\")\n",
    "\n",
    "# Predecir en el conjunto de prueba usando el mejor modelo\n",
    "y_pred_clf = best_model.predict(X_test_with_outliers_norm)\n",
    "y_pred_proba_clf = best_model.predict_proba(X_test_with_outliers_norm)[:, 1]\n",
    "\n",
    "# Calcular resultados\n",
    "conf_matrix = confusion_matrix(y_test, y_pred_clf)\n",
    "classification_rep = classification_report(y_test, y_pred_clf, output_dict=True)\n",
    "accuracy = accuracy_score(y_test, y_pred_clf)\n",
    "\n",
    "# Calcular la curva ROC y el valor AUC\n",
    "fpr, tpr, thresholds = roc_curve(y_test, y_pred_proba_clf)\n",
    "roc_auc = auc(fpr, tpr)\n",
    "\n",
    "# Crear el DataFrame para el reporte de clasificación y redondear a 2 decimales\n",
    "classification_df = pd.DataFrame(classification_rep).transpose().round(2)\n",
    "\n",
    "# Grafico\n",
    "fig, ax = plt.subplots(2, 2, figsize=(16, 16))\n",
    "\n",
    "# Matriz de confusion\n",
    "sns.heatmap(conf_matrix, annot=True, fmt=\"d\", cmap=\"Blues\", ax=ax[0, 0])\n",
    "ax[0, 0].set_title(\"Matriz de Confusión\", fontsize=14)\n",
    "ax[0, 0].set_xlabel(\"Predicción\", fontsize=12)\n",
    "ax[0, 0].set_ylabel(\"Valor Real\", fontsize=12)\n",
    "\n",
    "# Reporte de clasificacion\n",
    "ax[0, 1].axis(\"tight\")\n",
    "ax[0, 1].axis(\"off\")\n",
    "\n",
    "# Accuracy\n",
    "exact_text = f\"Accruracy del Modelo: {accuracy * 100:.2f}%\"\n",
    "ax[0, 1].text(\n",
    "    0.5, 1.2, exact_text, fontsize=16, color=\"blue\", ha=\"center\", transform=ax[0, 1].transAxes\n",
    ")\n",
    "\n",
    "# Reporte de clasificacion\n",
    "table = ax[0, 1].table(\n",
    "    cellText=classification_df.values,\n",
    "    colLabels=classification_df.columns,\n",
    "    rowLabels=classification_df.index,\n",
    "    loc=\"center\",\n",
    "    cellLoc=\"center\",\n",
    "    colLoc=\"center\",\n",
    ")\n",
    "table.auto_set_font_size(False)\n",
    "table.set_fontsize(10)\n",
    "table.scale(1.2, 1.2)  \n",
    "\n",
    "# Curva ROC\n",
    "ax[1, 0].plot(fpr, tpr, color=\"darkorange\", lw=2, label=f\"ROC curve (area = {roc_auc:.2f})\")\n",
    "ax[1, 0].plot([0, 1], [0, 1], color=\"navy\", lw=2, linestyle=\"--\")\n",
    "ax[1, 0].set_xlim([0.0, 1.0])\n",
    "ax[1, 0].set_ylim([0.0, 1.05])\n",
    "ax[1, 0].set_title(\"Curva ROC\", fontsize=14)\n",
    "ax[1, 0].set_xlabel(\"Tasa de Falsos Positivos (FPR)\", fontsize=12)\n",
    "ax[1, 0].set_ylabel(\"Tasa de Verdaderos Positivos (TPR)\", fontsize=12)\n",
    "ax[1, 0].legend(loc=\"lower right\", fontsize=12)\n",
    "\n",
    "# Subplot 4 vacio\n",
    "ax[1, 1].axis(\"off\")\n",
    "\n",
    "# Ajustar diseno\n",
    "plt.tight_layout()\n",
    "plt.show()"
   ]
  },
  {
   "cell_type": "markdown",
   "metadata": {},
   "source": [
    "### 8.5 - GUARDANDO EL MODELO"
   ]
  },
  {
   "cell_type": "code",
   "execution_count": 99,
   "metadata": {},
   "outputs": [
    {
     "name": "stdout",
     "output_type": "stream",
     "text": [
      "El modelo se ha guardado exitosamente en 'best_model_xgb.pkl'.\n"
     ]
    }
   ],
   "source": [
    "with open('../models/best_model_xgb_subsample_1.0_n_estimators_200_max_depth_10_learning_rate_0.2_gamma_0.1_colsample_bytree_0.8.pkl', 'wb') as file:\n",
    "    dump(best_model, file)\n",
    "\n",
    "print(\"El modelo se ha guardado exitosamente en 'best_model_xgb_subsample_1.0_n_estimators_200_max_depth_10_learning_rate_0.2_gamma_0.1_colsample_bytree_0.8.pkl'.\")"
   ]
  }
 ],
 "metadata": {
  "kernelspec": {
   "display_name": "base",
   "language": "python",
   "name": "python3"
  },
  "language_info": {
   "codemirror_mode": {
    "name": "ipython",
    "version": 3
   },
   "file_extension": ".py",
   "mimetype": "text/x-python",
   "name": "python",
   "nbconvert_exporter": "python",
   "pygments_lexer": "ipython3",
   "version": "3.12.7"
  }
 },
 "nbformat": 4,
 "nbformat_minor": 2
}
